{
  "nbformat": 4,
  "nbformat_minor": 0,
  "metadata": {
    "colab": {
      "name": "Flight Fare prediction.ipynb",
      "provenance": [],
      "collapsed_sections": [
        "0IFvNnOWhvcZ",
        "rAKc-aRBidpN",
        "updzPNqIRM0m",
        "M73EWKB_dHmc",
        "484L_xMOlQ4a"
      ]
    },
    "kernelspec": {
      "name": "python3",
      "display_name": "Python 3"
    },
    "language_info": {
      "name": "python"
    }
  },
  "cells": [
    {
      "cell_type": "code",
      "metadata": {
        "id": "ePTSJoCFhF2M"
      },
      "source": [
        "import warnings\n",
        "warnings.filterwarnings(\"ignore\")"
      ],
      "execution_count": null,
      "outputs": []
    },
    {
      "cell_type": "markdown",
      "metadata": {
        "id": "gxOvnGS48PGD"
      },
      "source": [
        "####**Importing Libraries**"
      ]
    },
    {
      "cell_type": "code",
      "metadata": {
        "id": "9ayJVthVbPr5"
      },
      "source": [
        "import pandas as pd\n",
        "import numpy as np\n",
        "import matplotlib.pyplot as plt\n",
        "from keras.optimizers import Adam,Nadam,RMSprop\n",
        "from keras.losses import MeanSquaredError,MeanAbsolutePercentageError\n",
        "from keras.activations import linear,relu,elu,tanh\n",
        "from keras.layers import Dense, Dropout\n",
        "from keras.models import Sequential"
      ],
      "execution_count": 5,
      "outputs": []
    },
    {
      "cell_type": "markdown",
      "metadata": {
        "id": "XK1g0mZZcTRU"
      },
      "source": [
        "####**Dataset Overview** :\n",
        "#####Dataset Name : Flight Fare Prediction\n",
        "#####Dataset Source : [Kaggle](https://www.kaggle.com/bhaveshsonagra/flight-fare-prediction) \n",
        "\n",
        "####**Problem statement**:\n",
        "##### To predict the Fare of the Flight given the inputs and as our Target variable is a Numerical variable, this is a Regression Problem\n",
        "\n",
        "####**Ways to solve**:\n",
        "##### There are many ways to solve this Problem,\n",
        "##### 1. We can do Regression, using the algorithms we have.\n",
        "##### 2. Making it as simple time-series problem by splitting using time based splitting, as we have date and time ,but we have only the data for 1 year\n",
        "##### 3. Using Deep learning if our Supervised algorithms are unable to learn and predict from the data "
      ]
    },
    {
      "cell_type": "markdown",
      "metadata": {
        "id": "7bYkNgYXeujz"
      },
      "source": [
        "#### **Plan of attack**:\n",
        "#####**1**. Reading the Dataset\n",
        "#####**2**. **EDA**\n",
        "#####**2.1**. Checking the shapes\n",
        "#####**2.2**. Checking the Rows and Columns\n",
        "#####**2.3**. Univariate analysis of Columns\n",
        "#####**2.4**. Bi-variate analysis of Columns\n",
        "#####**3**. **Data Preprocessing**\n",
        "#####**3.1**. Removal of Duplicates\n",
        "#####**3.2**. Removal/Imputing of Missing values\n",
        "#####**3.3**. Removal of Outliers for Numerical Variables\n",
        "#####**3.4**. Making the dataset ready\n",
        "#####**4**. **Modelling**\n",
        "#####**4.1**. Selecting the Metrics\n",
        "#####**4.2**. Noting the models that are useful for this problem\n",
        "#####**4.3**. Applying models on Dataset\n",
        "#####**4.4**. Checking for overfitting or underfitting.\n",
        "#####**4.5**. Selecting the model which gives best metric.\n",
        "#####**4.6**. Hyperparameter tuning on the best model.\n",
        "#####**5**. **Final**\n",
        "#####**5.1**. Reporting the scores at last of all the models.\n",
        "#####**5.2**. Conclusions "
      ]
    },
    {
      "cell_type": "markdown",
      "metadata": {
        "id": "DtqctsgjemD2"
      },
      "source": [
        "#### **1.Reading the Dataset**"
      ]
    },
    {
      "cell_type": "code",
      "metadata": {
        "id": "8yf2IwAxcGkt"
      },
      "source": [
        "data=pd.read_excel(\"Data_Train.xlsx\")"
      ],
      "execution_count": null,
      "outputs": []
    },
    {
      "cell_type": "markdown",
      "metadata": {
        "id": "0IFvNnOWhvcZ"
      },
      "source": [
        "####**2.1 Checking the Shapes**"
      ]
    },
    {
      "cell_type": "code",
      "metadata": {
        "colab": {
          "base_uri": "https://localhost:8080/"
        },
        "id": "Ua8sqX_AcROt",
        "outputId": "309db15f-629b-47c8-ae8f-c3674d219c00"
      },
      "source": [
        "print(\"The dataset shape is \"+ str(data.shape))\n",
        "print(\" \")\n",
        "print(\"The Number of rows are \"+ str(data.shape[0]))\n",
        "print(\" \")\n",
        "print(\"The Number of columns are \"+ str(data.shape[1]))"
      ],
      "execution_count": null,
      "outputs": [
        {
          "output_type": "stream",
          "text": [
            "The dataset shape is (10683, 11)\n",
            " \n",
            "The Number of rows are 10683\n",
            " \n",
            "The Number of columns are 11\n"
          ],
          "name": "stdout"
        }
      ]
    },
    {
      "cell_type": "markdown",
      "metadata": {
        "id": "rAKc-aRBidpN"
      },
      "source": [
        "#### **2.2 Checking the Rows and Columns**"
      ]
    },
    {
      "cell_type": "code",
      "metadata": {
        "colab": {
          "base_uri": "https://localhost:8080/"
        },
        "id": "ZEoREl1UiXTP",
        "outputId": "55692829-8e1f-42f2-c6cd-eed97b00a02e"
      },
      "source": [
        "pd.set_option(\"display.max_rows\", None, \"display.max_columns\", None)\n",
        "print(data.columns)\n",
        "\n",
        "#We are not getting much information here, let's try another way"
      ],
      "execution_count": null,
      "outputs": [
        {
          "output_type": "stream",
          "text": [
            "Index(['Airline', 'Date_of_Journey', 'Source', 'Destination', 'Route',\n",
            "       'Dep_Time', 'Arrival_Time', 'Duration', 'Total_Stops',\n",
            "       'Additional_Info', 'Price'],\n",
            "      dtype='object')\n"
          ],
          "name": "stdout"
        }
      ]
    },
    {
      "cell_type": "code",
      "metadata": {
        "colab": {
          "base_uri": "https://localhost:8080/"
        },
        "id": "CMbs7icGjYrV",
        "outputId": "a2ff4d2c-8118-4876-df4c-bc4ff4e14945"
      },
      "source": [
        "print(data.info())\n",
        "\n",
        "# Now, we can see that all my 10 variables are categorical Variables except Price which is my dependent Numericial variable."
      ],
      "execution_count": null,
      "outputs": [
        {
          "output_type": "stream",
          "text": [
            "<class 'pandas.core.frame.DataFrame'>\n",
            "RangeIndex: 10683 entries, 0 to 10682\n",
            "Data columns (total 11 columns):\n",
            " #   Column           Non-Null Count  Dtype \n",
            "---  ------           --------------  ----- \n",
            " 0   Airline          10683 non-null  object\n",
            " 1   Date_of_Journey  10683 non-null  object\n",
            " 2   Source           10683 non-null  object\n",
            " 3   Destination      10683 non-null  object\n",
            " 4   Route            10682 non-null  object\n",
            " 5   Dep_Time         10683 non-null  object\n",
            " 6   Arrival_Time     10683 non-null  object\n",
            " 7   Duration         10683 non-null  object\n",
            " 8   Total_Stops      10682 non-null  object\n",
            " 9   Additional_Info  10683 non-null  object\n",
            " 10  Price            10683 non-null  int64 \n",
            "dtypes: int64(1), object(10)\n",
            "memory usage: 918.2+ KB\n",
            "None\n"
          ],
          "name": "stdout"
        }
      ]
    },
    {
      "cell_type": "code",
      "metadata": {
        "colab": {
          "base_uri": "https://localhost:8080/"
        },
        "id": "ChxVrFX_khrc",
        "outputId": "f79e5cf5-abaf-45a0-8d97-5bf1a4df3fa6"
      },
      "source": [
        "data.head(1)\n",
        "\n",
        "#Checking one of the rows"
      ],
      "execution_count": null,
      "outputs": [
        {
          "output_type": "execute_result",
          "data": {
            "text/html": [
              "<div>\n",
              "<style scoped>\n",
              "    .dataframe tbody tr th:only-of-type {\n",
              "        vertical-align: middle;\n",
              "    }\n",
              "\n",
              "    .dataframe tbody tr th {\n",
              "        vertical-align: top;\n",
              "    }\n",
              "\n",
              "    .dataframe thead th {\n",
              "        text-align: right;\n",
              "    }\n",
              "</style>\n",
              "<table border=\"1\" class=\"dataframe\">\n",
              "  <thead>\n",
              "    <tr style=\"text-align: right;\">\n",
              "      <th></th>\n",
              "      <th>Airline</th>\n",
              "      <th>Date_of_Journey</th>\n",
              "      <th>Source</th>\n",
              "      <th>Destination</th>\n",
              "      <th>Route</th>\n",
              "      <th>Dep_Time</th>\n",
              "      <th>Arrival_Time</th>\n",
              "      <th>Duration</th>\n",
              "      <th>Total_Stops</th>\n",
              "      <th>Additional_Info</th>\n",
              "      <th>Price</th>\n",
              "    </tr>\n",
              "  </thead>\n",
              "  <tbody>\n",
              "    <tr>\n",
              "      <th>0</th>\n",
              "      <td>IndiGo</td>\n",
              "      <td>24/03/2019</td>\n",
              "      <td>Banglore</td>\n",
              "      <td>New Delhi</td>\n",
              "      <td>BLR → DEL</td>\n",
              "      <td>22:20</td>\n",
              "      <td>01:10 22 Mar</td>\n",
              "      <td>2h 50m</td>\n",
              "      <td>non-stop</td>\n",
              "      <td>No info</td>\n",
              "      <td>3897</td>\n",
              "    </tr>\n",
              "  </tbody>\n",
              "</table>\n",
              "</div>"
            ],
            "text/plain": [
              "  Airline Date_of_Journey    Source Destination      Route Dep_Time  \\\n",
              "0  IndiGo      24/03/2019  Banglore   New Delhi  BLR → DEL    22:20   \n",
              "\n",
              "   Arrival_Time Duration Total_Stops Additional_Info  Price  \n",
              "0  01:10 22 Mar   2h 50m    non-stop         No info   3897  "
            ]
          },
          "metadata": {
            "tags": []
          },
          "execution_count": 1169
        }
      ]
    },
    {
      "cell_type": "markdown",
      "metadata": {
        "id": "FjuIkHt1paYL"
      },
      "source": [
        "####**2.3 Univariate analysis of Columns**"
      ]
    },
    {
      "cell_type": "code",
      "metadata": {
        "id": "lPCYyEXspY6R"
      },
      "source": [
        "def Univariate_analysis(column,flag):\n",
        "  ''' Function to do basic univariate analysis '''\n",
        "  print(\"\\033[1m\"+\"1.Unique Categories\"+'\\033[0m')\n",
        "  print(\"Number of Unique Categories in this variable are \"+str(len(data[column].unique())))\n",
        "  print(\"\")\n",
        "  if flag==0:\n",
        "    print(\"\\033[1m\"+\"2.Categories Count\"+'\\033[0m')\n",
        "    print(data[column].value_counts())\n",
        "    print(\" \")\n",
        "  else:\n",
        "    print(\"\\033[1m\"+\"2.Categories Count(Top 10)\"+'\\033[0m')\n",
        "    print(data[column].value_counts()[:10])\n",
        "    print(\" \")\n",
        "  print(\"\\033[1m\"+\"3.Missing Values\"+'\\033[0m')\n",
        "  print(\"The Number of Missing values is \"+str(data[column].isnull().sum()))\n",
        "  print(\" \")\n",
        "  if flag==0:\n",
        "    print(\"\\033[1m\"+\"4.Plot showing the counts\"+'\\033[0m')\n",
        "    plot=data[column].value_counts().plot(kind='bar')  "
      ],
      "execution_count": null,
      "outputs": []
    },
    {
      "cell_type": "markdown",
      "metadata": {
        "id": "d3gtu67RHxW6"
      },
      "source": [
        "###### **Univariate Analysis on Airline Column**"
      ]
    },
    {
      "cell_type": "code",
      "metadata": {
        "colab": {
          "base_uri": "https://localhost:8080/"
        },
        "id": "W-1Ltxgj4RJQ",
        "outputId": "3b81422b-93b0-40d7-a735-a4ebb9275075"
      },
      "source": [
        "Univariate_analysis('Airline',0)\n",
        "\n",
        "# As, Jet airways had paused their operations, we can remove them but we won't have much data as Jet Airways solely include 3855 datapoints."
      ],
      "execution_count": null,
      "outputs": [
        {
          "output_type": "stream",
          "text": [
            "\u001b[1m1.Unique Categories\u001b[0m\n",
            "Number of Unique Categories in this variable are 12\n",
            "\n",
            "\u001b[1m2.Categories Count\u001b[0m\n",
            "Jet Airways                          3849\n",
            "IndiGo                               2053\n",
            "Air India                            1752\n",
            "Multiple carriers                    1196\n",
            "SpiceJet                              818\n",
            "Vistara                               479\n",
            "Air Asia                              319\n",
            "GoAir                                 194\n",
            "Multiple carriers Premium economy      13\n",
            "Jet Airways Business                    6\n",
            "Vistara Premium economy                 3\n",
            "Trujet                                  1\n",
            "Name: Airline, dtype: int64\n",
            " \n",
            "\u001b[1m3.Missing Values\u001b[0m\n",
            "The Number of Missing values is 0\n",
            " \n",
            "\u001b[1m4.Plot showing the counts\u001b[0m\n"
          ],
          "name": "stdout"
        },
        {
          "output_type": "display_data",
          "data": {
            "image/png": "[encoded data removed]",
            "text/plain": [
              "<Figure size 432x288 with 1 Axes>"
            ]
          },
          "metadata": {
            "tags": [],
            "needs_background": "light"
          }
        }
      ]
    },
    {
      "cell_type": "markdown",
      "metadata": {
        "id": "OWIHLuoJICvz"
      },
      "source": [
        "###### **Univariate Analysis on Source Column**"
      ]
    },
    {
      "cell_type": "code",
      "metadata": {
        "colab": {
          "base_uri": "https://localhost:8080/"
        },
        "id": "T6LSgfR8tq44",
        "outputId": "d1bee7da-3c54-4164-d257-727fd5f38580"
      },
      "source": [
        "Univariate_analysis('Source',0)"
      ],
      "execution_count": null,
      "outputs": [
        {
          "output_type": "stream",
          "text": [
            "\u001b[1m1.Unique Categories\u001b[0m\n",
            "Number of Unique Categories in this variable are 5\n",
            "\n",
            "\u001b[1m2.Categories Count\u001b[0m\n",
            "Delhi       4537\n",
            "Kolkata     2871\n",
            "Banglore    2197\n",
            "Mumbai       697\n",
            "Chennai      381\n",
            "Name: Source, dtype: int64\n",
            " \n",
            "\u001b[1m3.Missing Values\u001b[0m\n",
            "The Number of Missing values is 0\n",
            " \n",
            "\u001b[1m4.Plot showing the counts\u001b[0m\n"
          ],
          "name": "stdout"
        },
        {
          "output_type": "display_data",
          "data": {
            "image/png": "[encoded data removed]",
            "text/plain": [
              "<Figure size 432x288 with 1 Axes>"
            ]
          },
          "metadata": {
            "tags": [],
            "needs_background": "light"
          }
        }
      ]
    },
    {
      "cell_type": "markdown",
      "metadata": {
        "id": "EdCvYgKIIKXD"
      },
      "source": [
        "###### **Univariate Analysis on Destination Column**"
      ]
    },
    {
      "cell_type": "code",
      "metadata": {
        "colab": {
          "base_uri": "https://localhost:8080/"
        },
        "id": "Fnl_gAom_V8c",
        "outputId": "80bffd75-9b88-437b-8d73-c8cc8d221961"
      },
      "source": [
        "Univariate_analysis('Destination',0)"
      ],
      "execution_count": null,
      "outputs": [
        {
          "output_type": "stream",
          "text": [
            "\u001b[1m1.Unique Categories\u001b[0m\n",
            "Number of Unique Categories in this variable are 6\n",
            "\n",
            "\u001b[1m2.Categories Count\u001b[0m\n",
            "Cochin       4537\n",
            "Banglore     2871\n",
            "Delhi        1265\n",
            "New Delhi     932\n",
            "Hyderabad     697\n",
            "Kolkata       381\n",
            "Name: Destination, dtype: int64\n",
            " \n",
            "\u001b[1m3.Missing Values\u001b[0m\n",
            "The Number of Missing values is 0\n",
            " \n",
            "\u001b[1m4.Plot showing the counts\u001b[0m\n"
          ],
          "name": "stdout"
        },
        {
          "output_type": "display_data",
          "data": {
            "image/png": "[encoded data removed]",
            "text/plain": [
              "<Figure size 432x288 with 1 Axes>"
            ]
          },
          "metadata": {
            "tags": [],
            "needs_background": "light"
          }
        }
      ]
    },
    {
      "cell_type": "markdown",
      "metadata": {
        "id": "n8jJsn6tIPHc"
      },
      "source": [
        "###### **Univariate Analysis on Route Column**"
      ]
    },
    {
      "cell_type": "code",
      "metadata": {
        "colab": {
          "base_uri": "https://localhost:8080/"
        },
        "id": "a_zx0KRN_hhO",
        "outputId": "e9bbd022-9bf3-4bd0-f74f-7c0e6db0f1f4"
      },
      "source": [
        "Univariate_analysis('Route',1)"
      ],
      "execution_count": null,
      "outputs": [
        {
          "output_type": "stream",
          "text": [
            "\u001b[1m1.Unique Categories\u001b[0m\n",
            "Number of Unique Categories in this variable are 129\n",
            "\n",
            "\u001b[1m2.Categories Count(Top 10)\u001b[0m\n",
            "DEL → BOM → COK          2376\n",
            "BLR → DEL                1552\n",
            "CCU → BOM → BLR           979\n",
            "CCU → BLR                 724\n",
            "BOM → HYD                 621\n",
            "CCU → DEL → BLR           565\n",
            "BLR → BOM → DEL           402\n",
            "MAA → CCU                 381\n",
            "DEL → HYD → COK           326\n",
            "DEL → JAI → BOM → COK     240\n",
            "Name: Route, dtype: int64\n",
            " \n",
            "\u001b[1m3.Missing Values\u001b[0m\n",
            "The Number of Missing values is 1\n",
            " \n"
          ],
          "name": "stdout"
        }
      ]
    },
    {
      "cell_type": "markdown",
      "metadata": {
        "id": "vGLq5yq5ITmN"
      },
      "source": [
        "###### **Univariate Analysis on Departure_Time Column**"
      ]
    },
    {
      "cell_type": "code",
      "metadata": {
        "colab": {
          "base_uri": "https://localhost:8080/"
        },
        "id": "KSs9kXk6_hkW",
        "outputId": "826320cc-5b3b-41a7-8729-d2b48545b354"
      },
      "source": [
        "Univariate_analysis('Dep_Time',1)"
      ],
      "execution_count": null,
      "outputs": [
        {
          "output_type": "stream",
          "text": [
            "\u001b[1m1.Unique Categories\u001b[0m\n",
            "Number of Unique Categories in this variable are 222\n",
            "\n",
            "\u001b[1m2.Categories Count(Top 10)\u001b[0m\n",
            "18:55    233\n",
            "17:00    227\n",
            "07:05    205\n",
            "10:00    203\n",
            "07:10    202\n",
            "20:00    185\n",
            "09:00    184\n",
            "09:35    183\n",
            "21:10    180\n",
            "07:00    167\n",
            "Name: Dep_Time, dtype: int64\n",
            " \n",
            "\u001b[1m3.Missing Values\u001b[0m\n",
            "The Number of Missing values is 0\n",
            " \n"
          ],
          "name": "stdout"
        }
      ]
    },
    {
      "cell_type": "markdown",
      "metadata": {
        "id": "EmC-gBiPIZh7"
      },
      "source": [
        "###### **Univariate Analysis on Arrival Time Column**"
      ]
    },
    {
      "cell_type": "code",
      "metadata": {
        "colab": {
          "base_uri": "https://localhost:8080/"
        },
        "id": "PvLWdIVB_hm6",
        "outputId": "fa6f4bab-223d-45db-f3d0-31a975ce8639"
      },
      "source": [
        "#Column Arrival_Time\n",
        "\n",
        "Univariate_analysis('Arrival_Time',1)\n",
        "\n",
        "\n",
        "print(\"\\033[1m\"+'4.Some Datapoints'+'\\033[0m')\n",
        "\n",
        "print(data['Arrival_Time'].head())\n",
        "\n",
        "#Here if we can see the data, we have date and months on them, so we should remove them in preprocessing stage"
      ],
      "execution_count": null,
      "outputs": [
        {
          "output_type": "stream",
          "text": [
            "\u001b[1m1.Unique Categories\u001b[0m\n",
            "Number of Unique Categories in this variable are 1343\n",
            "\n",
            "\u001b[1m2.Categories Count(Top 10)\u001b[0m\n",
            "19:00    423\n",
            "21:00    360\n",
            "19:15    333\n",
            "16:10    154\n",
            "12:35    122\n",
            "20:45    112\n",
            "18:50    111\n",
            "22:30    111\n",
            "22:50    104\n",
            "11:20     95\n",
            "Name: Arrival_Time, dtype: int64\n",
            " \n",
            "\u001b[1m3.Missing Values\u001b[0m\n",
            "The Number of Missing values is 0\n",
            " \n",
            "\u001b[1m4.Some Datapoints\u001b[0m\n",
            "0    01:10 22 Mar\n",
            "1           13:15\n",
            "2    04:25 10 Jun\n",
            "3           23:30\n",
            "4           21:35\n",
            "Name: Arrival_Time, dtype: object\n"
          ],
          "name": "stdout"
        }
      ]
    },
    {
      "cell_type": "markdown",
      "metadata": {
        "id": "UdyJY8TEIeh0"
      },
      "source": [
        "###### **Univariate Analysis on Duration Column**"
      ]
    },
    {
      "cell_type": "code",
      "metadata": {
        "colab": {
          "base_uri": "https://localhost:8080/"
        },
        "id": "zzMFPMBI_hxC",
        "outputId": "23729d79-8fec-44ff-f41e-9b4510238c16"
      },
      "source": [
        "#Column Duration\n",
        "\n",
        "Univariate_analysis('Duration',1)\n",
        "\n",
        "\n",
        "#We should split the hours and minutes into two seperate columns in preprocessing stage"
      ],
      "execution_count": null,
      "outputs": [
        {
          "output_type": "stream",
          "text": [
            "\u001b[1m1.Unique Categories\u001b[0m\n",
            "Number of Unique Categories in this variable are 368\n",
            "\n",
            "\u001b[1m2.Categories Count(Top 10)\u001b[0m\n",
            "2h 50m    550\n",
            "1h 30m    386\n",
            "2h 45m    337\n",
            "2h 55m    337\n",
            "2h 35m    329\n",
            "3h        261\n",
            "2h 20m    238\n",
            "2h 30m    220\n",
            "2h 40m    158\n",
            "2h 15m    135\n",
            "Name: Duration, dtype: int64\n",
            " \n",
            "\u001b[1m3.Missing Values\u001b[0m\n",
            "The Number of Missing values is 0\n",
            " \n"
          ],
          "name": "stdout"
        }
      ]
    },
    {
      "cell_type": "markdown",
      "metadata": {
        "id": "7NGKyepsI7zc"
      },
      "source": [
        "###### **Univariate Analysis on Total Stops Column**"
      ]
    },
    {
      "cell_type": "code",
      "metadata": {
        "colab": {
          "base_uri": "https://localhost:8080/"
        },
        "id": "m6xBEc8aEJMs",
        "outputId": "2d184cfa-e7eb-4391-9d37-11cb973b4469"
      },
      "source": [
        "Univariate_analysis('Total_Stops',0)"
      ],
      "execution_count": null,
      "outputs": [
        {
          "output_type": "stream",
          "text": [
            "\u001b[1m1.Unique Categories\u001b[0m\n",
            "Number of Unique Categories in this variable are 6\n",
            "\n",
            "\u001b[1m2.Categories Count\u001b[0m\n",
            "1 stop      5625\n",
            "non-stop    3491\n",
            "2 stops     1520\n",
            "3 stops       45\n",
            "4 stops        1\n",
            "Name: Total_Stops, dtype: int64\n",
            " \n",
            "\u001b[1m3.Missing Values\u001b[0m\n",
            "The Number of Missing values is 1\n",
            " \n",
            "\u001b[1m4.Plot showing the counts\u001b[0m\n"
          ],
          "name": "stdout"
        },
        {
          "output_type": "display_data",
          "data": {
            "image/png": "[encoded data removed]",
            "text/plain": [
              "<Figure size 432x288 with 1 Axes>"
            ]
          },
          "metadata": {
            "tags": [],
            "needs_background": "light"
          }
        }
      ]
    },
    {
      "cell_type": "code",
      "metadata": {
        "colab": {
          "base_uri": "https://localhost:8080/"
        },
        "id": "xSzkBzOlEJQE",
        "outputId": "bea905d5-e114-4fcd-ff2b-ae6264addb1c"
      },
      "source": [
        "data.head(1)"
      ],
      "execution_count": null,
      "outputs": [
        {
          "output_type": "execute_result",
          "data": {
            "text/html": [
              "<div>\n",
              "<style scoped>\n",
              "    .dataframe tbody tr th:only-of-type {\n",
              "        vertical-align: middle;\n",
              "    }\n",
              "\n",
              "    .dataframe tbody tr th {\n",
              "        vertical-align: top;\n",
              "    }\n",
              "\n",
              "    .dataframe thead th {\n",
              "        text-align: right;\n",
              "    }\n",
              "</style>\n",
              "<table border=\"1\" class=\"dataframe\">\n",
              "  <thead>\n",
              "    <tr style=\"text-align: right;\">\n",
              "      <th></th>\n",
              "      <th>Airline</th>\n",
              "      <th>Date_of_Journey</th>\n",
              "      <th>Source</th>\n",
              "      <th>Destination</th>\n",
              "      <th>Route</th>\n",
              "      <th>Dep_Time</th>\n",
              "      <th>Arrival_Time</th>\n",
              "      <th>Duration</th>\n",
              "      <th>Total_Stops</th>\n",
              "      <th>Additional_Info</th>\n",
              "      <th>Price</th>\n",
              "    </tr>\n",
              "  </thead>\n",
              "  <tbody>\n",
              "    <tr>\n",
              "      <th>0</th>\n",
              "      <td>IndiGo</td>\n",
              "      <td>24/03/2019</td>\n",
              "      <td>Banglore</td>\n",
              "      <td>New Delhi</td>\n",
              "      <td>BLR → DEL</td>\n",
              "      <td>22:20</td>\n",
              "      <td>01:10 22 Mar</td>\n",
              "      <td>2h 50m</td>\n",
              "      <td>non-stop</td>\n",
              "      <td>No info</td>\n",
              "      <td>3897</td>\n",
              "    </tr>\n",
              "  </tbody>\n",
              "</table>\n",
              "</div>"
            ],
            "text/plain": [
              "  Airline Date_of_Journey    Source Destination      Route Dep_Time  \\\n",
              "0  IndiGo      24/03/2019  Banglore   New Delhi  BLR → DEL    22:20   \n",
              "\n",
              "   Arrival_Time Duration Total_Stops Additional_Info  Price  \n",
              "0  01:10 22 Mar   2h 50m    non-stop         No info   3897  "
            ]
          },
          "metadata": {
            "tags": []
          },
          "execution_count": 1179
        }
      ]
    },
    {
      "cell_type": "markdown",
      "metadata": {
        "id": "VaNfsMLKdQc0"
      },
      "source": [
        "###### **Univariate Analysis on Additional_Info Column**"
      ]
    },
    {
      "cell_type": "code",
      "metadata": {
        "colab": {
          "base_uri": "https://localhost:8080/"
        },
        "id": "jjjJ-IkjEJTN",
        "outputId": "d9984f7c-4c46-4878-f40d-1b6be21f6864"
      },
      "source": [
        "Univariate_analysis('Additional_Info',0)\n",
        "\n",
        "# 1. We can see that amoung the 10,000+ datapoints, 8348 datapoints have No_info\n",
        "# 2. It will be nearly 80% data.So, we will be dropping it in preprocessing stage"
      ],
      "execution_count": null,
      "outputs": [
        {
          "output_type": "stream",
          "text": [
            "\u001b[1m1.Unique Categories\u001b[0m\n",
            "Number of Unique Categories in this variable are 10\n",
            "\n",
            "\u001b[1m2.Categories Count\u001b[0m\n",
            "No info                         8345\n",
            "In-flight meal not included     1982\n",
            "No check-in baggage included     320\n",
            "1 Long layover                    19\n",
            "Change airports                    7\n",
            "Business class                     4\n",
            "No Info                            3\n",
            "Red-eye flight                     1\n",
            "1 Short layover                    1\n",
            "2 Long layover                     1\n",
            "Name: Additional_Info, dtype: int64\n",
            " \n",
            "\u001b[1m3.Missing Values\u001b[0m\n",
            "The Number of Missing values is 0\n",
            " \n",
            "\u001b[1m4.Plot showing the counts\u001b[0m\n"
          ],
          "name": "stdout"
        },
        {
          "output_type": "display_data",
          "data": {
            "image/png": "[encoded data removed]",
            "text/plain": [
              "<Figure size 432x288 with 1 Axes>"
            ]
          },
          "metadata": {
            "tags": [],
            "needs_background": "light"
          }
        }
      ]
    },
    {
      "cell_type": "markdown",
      "metadata": {
        "id": "8QZY_OaIdbJl"
      },
      "source": [
        "###### **Univariate Analysis on Price Column**"
      ]
    },
    {
      "cell_type": "code",
      "metadata": {
        "colab": {
          "base_uri": "https://localhost:8080/"
        },
        "id": "HdK0PIh6EJWD",
        "outputId": "332d2f07-6cf2-4668-c06e-2d9468532fb6"
      },
      "source": [
        "Univariate_analysis('Price',1)\n",
        "\n",
        "\n",
        "print(\"\\033[1m\"+'4.Low-level Statistics'+'\\033[0m')\n",
        "\n",
        "print(data['Price'].describe(percentiles=[0.10,0.25,0.50,0.75,0.80,0.95,0.99,0.995,0.999,0.9995,0.9999]))\n",
        "print(\" \")\n",
        "print(\"\\033[1m\"+'Some Observations'+'\\033[0m')\n",
        "print(\" \")\n",
        "print(\"1. The Minimum Fare is 1759 INR\") \n",
        "print(\" \")\n",
        "print(\"2. We can see that the highest Fare is 79k INR.\")\n",
        "print(\" \")\n",
        "print(\"3. The Average Fare is 9087 INR.\")\n",
        "print(\" \")\n",
        "print(\"4. We can see 99.5% of the flights have a price less than 26890 INR\")\n",
        "print(\" \")\n",
        "print(\"5. We can see 99.9% of the flights have a price less than 36235 INR\")"
      ],
      "execution_count": null,
      "outputs": [
        {
          "output_type": "stream",
          "text": [
            "\u001b[1m1.Unique Categories\u001b[0m\n",
            "Number of Unique Categories in this variable are 1870\n",
            "\n",
            "\u001b[1m2.Categories Count(Top 10)\u001b[0m\n",
            "10262    258\n",
            "10844    212\n",
            "7229     162\n",
            "4804     160\n",
            "4823     131\n",
            "14714    109\n",
            "3943     104\n",
            "15129     93\n",
            "3841      91\n",
            "12898     86\n",
            "Name: Price, dtype: int64\n",
            " \n",
            "\u001b[1m3.Missing Values\u001b[0m\n",
            "The Number of Missing values is 0\n",
            " \n",
            "\u001b[1m4.Low-level Statistics\u001b[0m\n",
            "count     10683.000000\n",
            "mean       9087.064121\n",
            "std        4611.359167\n",
            "min        1759.000000\n",
            "10%        3943.000000\n",
            "25%        5277.000000\n",
            "50%        8372.000000\n",
            "75%       12373.000000\n",
            "80%       13042.000000\n",
            "95%       15764.000000\n",
            "99%       22270.000000\n",
            "99.5%     26890.000000\n",
            "99.9%     36235.000000\n",
            "99.95%    53959.519000\n",
            "99.99%    62071.132400\n",
            "max       79512.000000\n",
            "Name: Price, dtype: float64\n",
            " \n",
            "\u001b[1mSome Observations\u001b[0m\n",
            " \n",
            "1. The Minimum Fare is 1759 INR\n",
            " \n",
            "2. We can see that the highest Fare is 79k INR.\n",
            " \n",
            "3. The Average Fare is 9087 INR.\n",
            " \n",
            "4. We can see 99.5% of the flights have a price less than 26890 INR\n",
            " \n",
            "5. We can see 99.9% of the flights have a price less than 36235 INR\n"
          ],
          "name": "stdout"
        }
      ]
    },
    {
      "cell_type": "markdown",
      "metadata": {
        "id": "updzPNqIRM0m"
      },
      "source": [
        "#### **2.4 Bi-Variate Analysis of Columns**"
      ]
    },
    {
      "cell_type": "code",
      "metadata": {
        "id": "X-w0RUQzRLXw"
      },
      "source": [
        "def bi_variate_analysis(column,flag1,flag2):\n",
        "  if flag1==0:\n",
        "    data.groupby(column)['Price'].median().plot(kind='bar')\n",
        "    plt.xlabel(column)\n",
        "    plt.ylabel(\"Average Price\")\n",
        "    plt.title(column+\" \" +\"v/s\"+\" Price\")\n",
        "  if flag2==0:\n",
        "    \n",
        "    print(\"\\033[1m\"+'Average_Price'+'\\033[0m')\n",
        "    print(\" \")\n",
        "    print(data.groupby(column)['Price'].median()[:10])"
      ],
      "execution_count": null,
      "outputs": []
    },
    {
      "cell_type": "code",
      "metadata": {
        "colab": {
          "base_uri": "https://localhost:8080/"
        },
        "id": "mNzQDtbScTmb",
        "outputId": "d48b1ec2-7226-4d2e-81f0-b1e9e09774a0"
      },
      "source": [
        "data.head(1)"
      ],
      "execution_count": null,
      "outputs": [
        {
          "output_type": "execute_result",
          "data": {
            "text/html": [
              "<div>\n",
              "<style scoped>\n",
              "    .dataframe tbody tr th:only-of-type {\n",
              "        vertical-align: middle;\n",
              "    }\n",
              "\n",
              "    .dataframe tbody tr th {\n",
              "        vertical-align: top;\n",
              "    }\n",
              "\n",
              "    .dataframe thead th {\n",
              "        text-align: right;\n",
              "    }\n",
              "</style>\n",
              "<table border=\"1\" class=\"dataframe\">\n",
              "  <thead>\n",
              "    <tr style=\"text-align: right;\">\n",
              "      <th></th>\n",
              "      <th>Airline</th>\n",
              "      <th>Date_of_Journey</th>\n",
              "      <th>Source</th>\n",
              "      <th>Destination</th>\n",
              "      <th>Route</th>\n",
              "      <th>Dep_Time</th>\n",
              "      <th>Arrival_Time</th>\n",
              "      <th>Duration</th>\n",
              "      <th>Total_Stops</th>\n",
              "      <th>Additional_Info</th>\n",
              "      <th>Price</th>\n",
              "    </tr>\n",
              "  </thead>\n",
              "  <tbody>\n",
              "    <tr>\n",
              "      <th>0</th>\n",
              "      <td>IndiGo</td>\n",
              "      <td>24/03/2019</td>\n",
              "      <td>Banglore</td>\n",
              "      <td>New Delhi</td>\n",
              "      <td>BLR → DEL</td>\n",
              "      <td>22:20</td>\n",
              "      <td>01:10 22 Mar</td>\n",
              "      <td>2h 50m</td>\n",
              "      <td>non-stop</td>\n",
              "      <td>No info</td>\n",
              "      <td>3897</td>\n",
              "    </tr>\n",
              "  </tbody>\n",
              "</table>\n",
              "</div>"
            ],
            "text/plain": [
              "  Airline Date_of_Journey    Source Destination      Route Dep_Time  \\\n",
              "0  IndiGo      24/03/2019  Banglore   New Delhi  BLR → DEL    22:20   \n",
              "\n",
              "   Arrival_Time Duration Total_Stops Additional_Info  Price  \n",
              "0  01:10 22 Mar   2h 50m    non-stop         No info   3897  "
            ]
          },
          "metadata": {
            "tags": []
          },
          "execution_count": 1183
        }
      ]
    },
    {
      "cell_type": "markdown",
      "metadata": {
        "id": "M73EWKB_dHmc"
      },
      "source": [
        "###### **Bivariate Analysis of Airline and Price Column**"
      ]
    },
    {
      "cell_type": "code",
      "metadata": {
        "colab": {
          "base_uri": "https://localhost:8080/"
        },
        "id": "L_-oCBSURLdx",
        "outputId": "99d17c8c-d9a1-4376-f97a-c5dfd5a0d999"
      },
      "source": [
        "bi_variate_analysis('Airline',0,0)\n",
        "\n",
        "print(\" \")\n",
        "print(\"\\033[1m\"+'Some Observations:'+'\\033[0m')\n",
        "print(\" \")\n",
        "print(\"1. Jet Airways,Jet Airways Business has the Prices much more when compared to others\")\n",
        "print(\" \")\n",
        "print(\"2. Multiple carriers,Multiple carriers Premium economy also has prices high when compared to other Flights\")\n",
        "print(\" \")\n",
        "print(\"3. Air Asia, GoAir, SpiceJet, Trujet, has the average price range less than 5000 \")\n",
        "print(\" \")"
      ],
      "execution_count": null,
      "outputs": [
        {
          "output_type": "stream",
          "text": [
            "\u001b[1mAverage_Price\u001b[0m\n",
            " \n",
            "Airline\n",
            "Air Asia                              5162\n",
            "Air India                             9443\n",
            "GoAir                                 5135\n",
            "IndiGo                                5000\n",
            "Jet Airways                          11467\n",
            "Jet Airways Business                 54747\n",
            "Multiple carriers                    10197\n",
            "Multiple carriers Premium economy    11269\n",
            "SpiceJet                              3873\n",
            "Trujet                                4140\n",
            "Name: Price, dtype: int64\n",
            " \n",
            "\u001b[1mSome Observations:\u001b[0m\n",
            " \n",
            "1. Jet Airways,Jet Airways Business has the Prices much more when compared to others\n",
            " \n",
            "2. Multiple carriers,Multiple carriers Premium economy also has prices high when compared to other Flights\n",
            " \n",
            "3. Air Asia, GoAir, SpiceJet, Trujet, has the average price range less than 5000 \n",
            " \n"
          ],
          "name": "stdout"
        },
        {
          "output_type": "display_data",
          "data": {
            "image/png": "[encoded data removed]",
            "text/plain": [
              "<Figure size 432x288 with 1 Axes>"
            ]
          },
          "metadata": {
            "tags": [],
            "needs_background": "light"
          }
        }
      ]
    },
    {
      "cell_type": "markdown",
      "metadata": {
        "id": "LnhvrlhJFc0q"
      },
      "source": [
        "###### **Bivariate Analysis of Date_of_Journey and Price Column**"
      ]
    },
    {
      "cell_type": "code",
      "metadata": {
        "colab": {
          "base_uri": "https://localhost:8080/"
        },
        "id": "CreQ-c9tRLnv",
        "outputId": "91ae6cae-7995-491c-aa37-670bae934f52"
      },
      "source": [
        "bi_variate_analysis('Date_of_Journey',1,0)\n",
        "\n",
        "print(\" \")\n",
        "print(\"\\033[1m\"+'Some Observations:'+'\\033[0m')\n",
        "print(\" \")\n",
        "print(\"1. We have the data of only 10,000+ Flight Fares of the flights which travelled in 2019 in the months of 1,3,4,5,6,9,12\")\n",
        "print(\" \")\n",
        "print(\"2. Our Goal is to use this data and Predict the Fares\")\n",
        "print(\" \")\n",
        "print(\"3. We will also create the weekends column while data preprocessing in next stage\")"
      ],
      "execution_count": null,
      "outputs": [
        {
          "output_type": "stream",
          "text": [
            "\u001b[1mAverage_Price\u001b[0m\n",
            " \n",
            "Date_of_Journey\n",
            "01/03/2019    22270.0\n",
            "03/03/2019     8553.0\n",
            "06/03/2019    16736.0\n",
            "09/03/2019     7648.0\n",
            "1/03/2019      8580.0\n",
            "1/04/2019      7064.0\n",
            "1/05/2019      8586.0\n",
            "1/06/2019      9133.5\n",
            "12/03/2019    12014.0\n",
            "12/04/2019     4990.0\n",
            "Name: Price, dtype: float64\n",
            " \n",
            "\u001b[1mSome Observations:\u001b[0m\n",
            " \n",
            "1. We have the data of only 10,000+ Flight Fares of the flights which travelled in 2019 in the months of 1,3,4,5,6,9,12\n",
            " \n",
            "2. Our Goal is to use this data and Predict the Fares\n",
            " \n",
            "3. We will also create the weekends column while data preprocessing in next stage\n"
          ],
          "name": "stdout"
        }
      ]
    },
    {
      "cell_type": "markdown",
      "metadata": {
        "id": "PVkNyb2_FjF6"
      },
      "source": [
        "###### **Bivariate Analysis of Source and Price Column**"
      ]
    },
    {
      "cell_type": "code",
      "metadata": {
        "colab": {
          "base_uri": "https://localhost:8080/"
        },
        "id": "7ZqwTOLYCiUh",
        "outputId": "f075e58a-0e04-4cbc-8c68-bdb57e6c7d57"
      },
      "source": [
        "bi_variate_analysis('Source',0,0)\n",
        "\n",
        "print(\" \")\n",
        "print(\"\\033[1m\"+'Some Observations:'+'\\033[0m')\n",
        "print(\" \")\n",
        "print(\"1. Chennai and Mumbai has the Fair less than 4000 INR.\")\n",
        "print(\" \")\n",
        "print(\"2. It is expensive to start a journey from Delhi, Kolkata as the average price is 10,262 INR, 9345 INR.\")\n",
        "print(\" \")\n",
        "print(\"3. Banglore is in the midst of prices. It is having the average Fair value compared to High and low Fares.\")\n",
        "print(\" \")"
      ],
      "execution_count": null,
      "outputs": [
        {
          "output_type": "stream",
          "text": [
            "\u001b[1mAverage_Price\u001b[0m\n",
            " \n",
            "Source\n",
            "Banglore     6121\n",
            "Chennai      3850\n",
            "Delhi       10262\n",
            "Kolkata      9345\n",
            "Mumbai       3342\n",
            "Name: Price, dtype: int64\n",
            " \n",
            "\u001b[1mSome Observations:\u001b[0m\n",
            " \n",
            "1. Chennai and Mumbai has the Fair less than 4000 INR.\n",
            " \n",
            "2. It is expensive to start a journey from Delhi, Kolkata as the average price is 10,262 INR, 9345 INR.\n",
            " \n",
            "3. Banglore is in the midst of prices. It is having the average Fair value compared to High and low Fares.\n",
            " \n"
          ],
          "name": "stdout"
        },
        {
          "output_type": "display_data",
          "data": {
            "image/png": "[encoded data removed]",
            "text/plain": [
              "<Figure size 432x288 with 1 Axes>"
            ]
          },
          "metadata": {
            "tags": [],
            "needs_background": "light"
          }
        }
      ]
    },
    {
      "cell_type": "markdown",
      "metadata": {
        "id": "6Sp76O9lFuqK"
      },
      "source": [
        "###### **Bivariate Analysis of Source,Destination and Price Column**"
      ]
    },
    {
      "cell_type": "code",
      "metadata": {
        "colab": {
          "base_uri": "https://localhost:8080/"
        },
        "id": "Vhm3QBwfCidx",
        "outputId": "79765081-262f-4802-cf85-7ebfda3a4d1d"
      },
      "source": [
        "# data=data.replace({\"New Delhi\":\"Delhi\"})  #We have same two cities as different destinations\n",
        "d=data.groupby(['Source','Destination'])['Price'].median().plot(kind='bar')\n",
        "print(\"\\033[1m\"+'Sorce, Destination and Average Price:'+'\\033[0m')\n",
        "print(\" \")\n",
        "print(data.groupby(['Source','Destination'])['Price'].median())\n",
        "print(\" \")\n",
        "print(\"\\033[1m\"+'Some Observations:'+'\\033[0m')\n",
        "print(\" \")\n",
        "print(\"1. Here In X-axis we have both Source and Destination as Combined and the average price is shown\")\n",
        "print(\" \")\n",
        "print(\"2. It is expensive to start a journey from Delhi to Cochin as the average price is 10,262 INR.\")\n",
        "print(\" \")\n",
        "print(\"3. Banglore to Delhi is pretty midst interms of Fair, Not too high and not too low\")\n",
        "print(\" \")\n",
        "print(\"4. Travelling from Mumbai to Hyderabad is very very reasonable as it having an average Fair of 3342 INR\")\n",
        "print(\" \")\n",
        "print(\"5. Banglore is in the midst of prices. It is having the average Fair value compared to High and low Fares.\")\n",
        "print(\" \")"
      ],
      "execution_count": null,
      "outputs": [
        {
          "output_type": "stream",
          "text": [
            "\u001b[1mSorce, Destination and Average Price:\u001b[0m\n",
            " \n",
            "Source    Destination\n",
            "Banglore  Delhi           4823.0\n",
            "          New Delhi      10898.5\n",
            "Chennai   Kolkata         3850.0\n",
            "Delhi     Cochin         10262.0\n",
            "Kolkata   Banglore        9345.0\n",
            "Mumbai    Hyderabad       3342.0\n",
            "Name: Price, dtype: float64\n",
            " \n",
            "\u001b[1mSome Observations:\u001b[0m\n",
            " \n",
            "1. Here In X-axis we have both Source and Destination as Combined and the average price is shown\n",
            " \n",
            "2. It is expensive to start a journey from Delhi to Cochin as the average price is 10,262 INR.\n",
            " \n",
            "3. Banglore to Delhi is pretty midst interms of Fair, Not too high and not too low\n",
            " \n",
            "4. Travelling from Mumbai to Hyderabad is very very reasonable as it having an average Fair of 3342 INR\n",
            " \n",
            "5. Banglore is in the midst of prices. It is having the average Fair value compared to High and low Fares.\n",
            " \n"
          ],
          "name": "stdout"
        },
        {
          "output_type": "display_data",
          "data": {
            "image/png": "[encoded data removed]",
            "text/plain": [
              "<Figure size 432x288 with 1 Axes>"
            ]
          },
          "metadata": {
            "tags": [],
            "needs_background": "light"
          }
        }
      ]
    },
    {
      "cell_type": "markdown",
      "metadata": {
        "id": "f2KgTg2hF4Dv"
      },
      "source": [
        "###### **Bivariate Analysis of  Departure time and Price Column**"
      ]
    },
    {
      "cell_type": "code",
      "metadata": {
        "colab": {
          "base_uri": "https://localhost:8080/"
        },
        "id": "9RNzeewvKPhV",
        "outputId": "3af5eaa5-ac5c-419e-8a26-c4909a76bd4f"
      },
      "source": [
        "\n",
        "d=data.groupby(['Dep_Time'])['Price'].median()[:10].plot(kind='bar')\n",
        "\n",
        "print(\"\\033[1m\"+'Departure Time(First 10) and Average Price:'+'\\033[0m')\n",
        "print(\" \")\n",
        "print(data.groupby(['Dep_Time'])['Price'].median()[:10])\n",
        "print(\" \")\n",
        "print(\"\\033[1m\"+'Some Observations:'+'\\033[0m')\n",
        "print(\" \")\n",
        "print(\"1. Here, we can't understand it clearly, as we are having different times, so creating a new variable\")\n",
        "print(\" \")"
      ],
      "execution_count": null,
      "outputs": [
        {
          "output_type": "stream",
          "text": [
            "\u001b[1mDeparture Time(First 10) and Average Price:\u001b[0m\n",
            " \n",
            "Dep_Time\n",
            "00:20    16644.5\n",
            "00:25     3943.0\n",
            "00:30     4284.0\n",
            "00:40     4860.5\n",
            "01:30     4077.0\n",
            "01:35     9977.0\n",
            "01:40     2754.0\n",
            "02:00     6147.0\n",
            "02:05    10394.0\n",
            "02:15    12719.0\n",
            "Name: Price, dtype: float64\n",
            " \n",
            "\u001b[1mSome Observations:\u001b[0m\n",
            " \n",
            "1. Here, we can't understand it clearly, as we are having different times, so creating a new variable\n",
            " \n"
          ],
          "name": "stdout"
        },
        {
          "output_type": "display_data",
          "data": {
            "image/png": "[encoded data removed]",
            "text/plain": [
              "<Figure size 432x288 with 1 Axes>"
            ]
          },
          "metadata": {
            "tags": [],
            "needs_background": "light"
          }
        }
      ]
    },
    {
      "cell_type": "markdown",
      "metadata": {
        "id": "A8RKFySYGfPp"
      },
      "source": [
        "###### **Creating a Day_Time variable for deep analysis**"
      ]
    },
    {
      "cell_type": "code",
      "metadata": {
        "colab": {
          "base_uri": "https://localhost:8080/"
        },
        "id": "ISoLCUCCRKji",
        "outputId": "e7ee0463-bb1e-41e8-b3a0-3c558e9803f5"
      },
      "source": [
        "day_time=[]\n",
        "for time in pd.to_datetime(data['Dep_Time']):\n",
        "  i=time.hour\n",
        "  if i >= 5 and i< 12:\n",
        "    day_time.append(\"Morning\")\n",
        "  elif i >= 12 and i < 17:\n",
        "    day_time.append(\"Afternoon\")\n",
        "  elif i>=17 and i < 22 :\n",
        "    day_time.append(\"Evening\")\n",
        "  else:\n",
        "    day_time.append(\"Night\") \n",
        "\n",
        "new_data=pd.DataFrame({'day_time':np.array(day_time),'Price':np.array(data['Price']),'Source':np.array(data['Source']),'Destination':np.array(data['Destination'])})\n",
        "\n",
        "d=new_data.groupby(['day_time'])['Price'].median().plot(kind='bar')\n",
        "\n",
        "print(\"\\033[1m\"+'Sorce, Destination(First 10) and Average Price:'+'\\033[0m')\n",
        "print(\" \")\n",
        "print(new_data.groupby(['day_time'])['Price'].median())\n",
        "print(\" \")\n",
        "print(\"\\033[1m\"+'Some Observations:'+'\\033[0m')\n",
        "print(\" \")\n",
        "print(\"1. Now we can see the fares w.r.t the Times of Day, But it is not very clear, Let's take Banglore as an example and see this\")\n",
        "print(\" \")"
      ],
      "execution_count": null,
      "outputs": [
        {
          "output_type": "stream",
          "text": [
            "\u001b[1mSorce, Destination(First 10) and Average Price:\u001b[0m\n",
            " \n",
            "day_time\n",
            "Afternoon    8656\n",
            "Evening      8586\n",
            "Morning      8372\n",
            "Night        5894\n",
            "Name: Price, dtype: int64\n",
            " \n",
            "\u001b[1mSome Observations:\u001b[0m\n",
            " \n",
            "1. Now we can see the fares w.r.t the Times of Day, But it is not very clear, Let's take Banglore as an example and see this\n",
            " \n"
          ],
          "name": "stdout"
        },
        {
          "output_type": "display_data",
          "data": {
            "image/png": "[encoded data removed]",
            "text/plain": [
              "<Figure size 432x288 with 1 Axes>"
            ]
          },
          "metadata": {
            "tags": [],
            "needs_background": "light"
          }
        }
      ]
    },
    {
      "cell_type": "markdown",
      "metadata": {
        "id": "4WDxy79UGRUH"
      },
      "source": [
        "###### **Bivariate Analysis of Day_Time and Price Column on Banglore Trips**"
      ]
    },
    {
      "cell_type": "code",
      "metadata": {
        "colab": {
          "base_uri": "https://localhost:8080/"
        },
        "id": "-9L-Bd8EKPks",
        "outputId": "e1e5e930-6e2a-4506-81e7-bbb0e5359037"
      },
      "source": [
        "d=new_data[data['Source']==\"Banglore\"].groupby(['day_time'])['Price'].median().plot(kind='bar',color=['C0', 'C1', 'C2', 'C3', 'C4'])\n",
        "\n",
        "print(\"\\033[1m\"+'Sorce, Destination(First 10) and Average Price:'+'\\033[0m')\n",
        "print(\" \")\n",
        "print(new_data[data['Source']==\"Banglore\"].groupby(['day_time'])['Price'].median())\n",
        "print(\" \")\n",
        "print(\"\\033[1m\"+'Some Observations when Source city is Banglore:'+'\\033[0m')\n",
        "print(\" \")\n",
        "print(\"1. It is better to Travel from Banglore to Delhi at Night Time\")\n",
        "print(\" \")\n",
        "print(\"2. If we travel from Banglore to Delhi in Afternoon and Morning, we should high Fare\")\n",
        "print(\" \")"
      ],
      "execution_count": null,
      "outputs": [
        {
          "output_type": "stream",
          "text": [
            "\u001b[1mSorce, Destination(First 10) and Average Price:\u001b[0m\n",
            " \n",
            "day_time\n",
            "Afternoon    7229\n",
            "Evening      5613\n",
            "Morning      6781\n",
            "Night        4483\n",
            "Name: Price, dtype: int64\n",
            " \n",
            "\u001b[1mSome Observations when Source city is Banglore:\u001b[0m\n",
            " \n",
            "1. It is better to Travel from Banglore to Delhi at Night Time\n",
            " \n",
            "2. If we travel from Banglore to Delhi in Afternoon and Morning, we should high Fare\n",
            " \n"
          ],
          "name": "stdout"
        },
        {
          "output_type": "display_data",
          "data": {
            "image/png": "[encoded data removed]",
            "text/plain": [
              "<Figure size 432x288 with 1 Axes>"
            ]
          },
          "metadata": {
            "tags": [],
            "needs_background": "light"
          }
        }
      ]
    },
    {
      "cell_type": "markdown",
      "metadata": {
        "id": "aXjsbmWhGMvJ"
      },
      "source": [
        "###### **Bivariate Analysis of Total_Stops and Price Column**"
      ]
    },
    {
      "cell_type": "code",
      "metadata": {
        "colab": {
          "base_uri": "https://localhost:8080/"
        },
        "id": "rTeY3kDt8l6I",
        "outputId": "f2bd916f-a292-4324-d32c-43eced75bf08"
      },
      "source": [
        "bi_variate_analysis('Total_Stops',0,0)\n",
        "\n",
        "print(\" \")\n",
        "print(\"\\033[1m\"+'Some Observations:'+'\\033[0m')\n",
        "print(\" \")\n",
        "print(\"1. To save fare it is better to go in Non-Stop Trip\")\n",
        "print(\" \")\n",
        "print(\"2. By this, we came to know that The more the stops, the higher will be the fare price\")\n",
        "print(\" \")\n",
        "print(\"3. Both 2-Stops, 3-Stops fares are aproximately same.\")\n",
        "print(\" \")"
      ],
      "execution_count": null,
      "outputs": [
        {
          "output_type": "stream",
          "text": [
            "\u001b[1mAverage_Price\u001b[0m\n",
            " \n",
            "Total_Stops\n",
            "1 stop      10262\n",
            "2 stops     12760\n",
            "3 stops     12954\n",
            "4 stops     17686\n",
            "non-stop     4667\n",
            "Name: Price, dtype: int64\n",
            " \n",
            "\u001b[1mSome Observations:\u001b[0m\n",
            " \n",
            "1. To save fare it is better to go in Non-Stop Trip\n",
            " \n",
            "2. By this, we came to know that The more the stops, the higher will be the fare price\n",
            " \n",
            "3. Both 2-Stops, 3-Stops fares are aproximately same.\n",
            " \n"
          ],
          "name": "stdout"
        },
        {
          "output_type": "display_data",
          "data": {
            "image/png": "[encoded data removed]",
            "text/plain": [
              "<Figure size 432x288 with 1 Axes>"
            ]
          },
          "metadata": {
            "tags": [],
            "needs_background": "light"
          }
        }
      ]
    },
    {
      "cell_type": "markdown",
      "metadata": {
        "id": "1hCne1OkIOv_"
      },
      "source": [
        "#####**By Doing EDA we found these things to be done in Data Preprocessing step :**\n",
        "######1. We have missing values in Route Column, Total Stops\n",
        "######2. In Arrival Time column we have Month and date, they should be removed in Data Preprocessing.\n",
        "######3. In Duration we have the values like 2h 30m, so we should convert them into 02:30 format in next stages\n",
        "######4. Should create a new column time of the day based on the departure time.\n",
        "######5. Convert all the categorical variables into One hot encoded vectors.\n",
        "######6. Convert the columns like Date of journey into seperate columns of date, month, year, hours, minutes.\n",
        "######7. Remove the Route Column, Additional Info columns.\n",
        "######8. Convert Total_stops to one hot encoded vectors.\n",
        "######9. Before performing, all the Data Preprocessing, split the data into train and test to avoid data leakage.**bold text**"
      ]
    },
    {
      "cell_type": "code",
      "metadata": {
        "colab": {
          "base_uri": "https://localhost:8080/"
        },
        "id": "7Tto6bkyIGYW",
        "outputId": "12afb21a-417f-4e68-b35f-b27f171fff37"
      },
      "source": [
        "data.head(1)"
      ],
      "execution_count": null,
      "outputs": [
        {
          "output_type": "execute_result",
          "data": {
            "text/html": [
              "<div>\n",
              "<style scoped>\n",
              "    .dataframe tbody tr th:only-of-type {\n",
              "        vertical-align: middle;\n",
              "    }\n",
              "\n",
              "    .dataframe tbody tr th {\n",
              "        vertical-align: top;\n",
              "    }\n",
              "\n",
              "    .dataframe thead th {\n",
              "        text-align: right;\n",
              "    }\n",
              "</style>\n",
              "<table border=\"1\" class=\"dataframe\">\n",
              "  <thead>\n",
              "    <tr style=\"text-align: right;\">\n",
              "      <th></th>\n",
              "      <th>Airline</th>\n",
              "      <th>Date_of_Journey</th>\n",
              "      <th>Source</th>\n",
              "      <th>Destination</th>\n",
              "      <th>Route</th>\n",
              "      <th>Dep_Time</th>\n",
              "      <th>Arrival_Time</th>\n",
              "      <th>Duration</th>\n",
              "      <th>Total_Stops</th>\n",
              "      <th>Additional_Info</th>\n",
              "      <th>Price</th>\n",
              "    </tr>\n",
              "  </thead>\n",
              "  <tbody>\n",
              "    <tr>\n",
              "      <th>0</th>\n",
              "      <td>IndiGo</td>\n",
              "      <td>24/03/2019</td>\n",
              "      <td>Banglore</td>\n",
              "      <td>New Delhi</td>\n",
              "      <td>BLR → DEL</td>\n",
              "      <td>22:20</td>\n",
              "      <td>01:10 22 Mar</td>\n",
              "      <td>2h 50m</td>\n",
              "      <td>non-stop</td>\n",
              "      <td>No info</td>\n",
              "      <td>3897</td>\n",
              "    </tr>\n",
              "  </tbody>\n",
              "</table>\n",
              "</div>"
            ],
            "text/plain": [
              "  Airline Date_of_Journey    Source Destination      Route Dep_Time  \\\n",
              "0  IndiGo      24/03/2019  Banglore   New Delhi  BLR → DEL    22:20   \n",
              "\n",
              "   Arrival_Time Duration Total_Stops Additional_Info  Price  \n",
              "0  01:10 22 Mar   2h 50m    non-stop         No info   3897  "
            ]
          },
          "metadata": {
            "tags": []
          },
          "execution_count": 1192
        }
      ]
    },
    {
      "cell_type": "markdown",
      "metadata": {
        "id": "WzwjPOX4HbVf"
      },
      "source": [
        "#### **3. Data Preprocessing**"
      ]
    },
    {
      "cell_type": "markdown",
      "metadata": {
        "id": "_FLltJQBWZKN"
      },
      "source": [
        "######**3.1 Checking and Removal of Duplicates**"
      ]
    },
    {
      "cell_type": "code",
      "metadata": {
        "id": "huXpApPAa9Zo"
      },
      "source": [
        "# count_data_duplicate=len(data[data.duplicated()])\n",
        "\n",
        "# print(\"We have {} duplicates in data and we have to remove them\".format(count_data_duplicate))\n",
        "\n",
        "# data.drop_duplicates(inplace=True,ignore_index=True)\n",
        "\n",
        "# print(\" \")\n",
        "# print(\"After removing duplicates\")\n",
        "\n",
        "# count_data_duplicate=len(data[data.duplicated()])\n",
        "\n",
        "# print()\n",
        "# print(\"We have {} duplicates in data\".format(count_data_duplicate))"
      ],
      "execution_count": null,
      "outputs": []
    },
    {
      "cell_type": "code",
      "metadata": {
        "id": "PXIbFLYiOlG-"
      },
      "source": [
        "#Found that we had only 1 Trujet flight Fare, so removing it\n",
        "\n",
        "data=data[data['Airline']!='Trujet']\n",
        "data=data[data['Airline']!='Vistara Premium economy']\n",
        "data=data[data['Total_Stops']!='4 stops']\n",
        "data=data[data['Airline']!='Jet Airways Business']"
      ],
      "execution_count": null,
      "outputs": []
    },
    {
      "cell_type": "markdown",
      "metadata": {
        "id": "jK0RbjTyhrj0"
      },
      "source": [
        "######**3.2 Checking and Removal of Missing Values**"
      ]
    },
    {
      "cell_type": "code",
      "metadata": {
        "id": "5gyFPKk6IE1-",
        "colab": {
          "base_uri": "https://localhost:8080/"
        },
        "outputId": "669c4ef2-5fa6-4ae7-bad1-d9587f6f6325"
      },
      "source": [
        "# We knew when we did EDA that we have missing values in Route variable and Total_Stops, but as we are dropping Route,\n",
        "# We shall remove missing rows from that Total_Stops Column\n",
        "\n",
        "print(\"\\033[1m\"+\"Before Removal\"+'\\033[0m')\n",
        "print(\" \")\n",
        "print(data.isnull().sum())\n",
        "\n",
        "\n",
        "data.dropna(axis=0,inplace=True)\n",
        "\n",
        "print(\" \")\n",
        "print(\"\\033[1m\"+\"After Removal\"+'\\033[0m')\n",
        "print(\" \")\n",
        "print(data.isnull().sum())"
      ],
      "execution_count": null,
      "outputs": [
        {
          "output_type": "stream",
          "text": [
            "\u001b[1mBefore Removal\u001b[0m\n",
            " \n",
            "Airline            0\n",
            "Date_of_Journey    0\n",
            "Source             0\n",
            "Destination        0\n",
            "Route              1\n",
            "Dep_Time           0\n",
            "Arrival_Time       0\n",
            "Duration           0\n",
            "Total_Stops        1\n",
            "Additional_Info    0\n",
            "Price              0\n",
            "dtype: int64\n",
            " \n",
            "\u001b[1mAfter Removal\u001b[0m\n",
            " \n",
            "Airline            0\n",
            "Date_of_Journey    0\n",
            "Source             0\n",
            "Destination        0\n",
            "Route              0\n",
            "Dep_Time           0\n",
            "Arrival_Time       0\n",
            "Duration           0\n",
            "Total_Stops        0\n",
            "Additional_Info    0\n",
            "Price              0\n",
            "dtype: int64\n"
          ],
          "name": "stdout"
        }
      ]
    },
    {
      "cell_type": "code",
      "metadata": {
        "id": "Cf_-km3IIEqh"
      },
      "source": [
        "data.reset_index(inplace=True,drop=True)"
      ],
      "execution_count": null,
      "outputs": []
    },
    {
      "cell_type": "code",
      "metadata": {
        "colab": {
          "base_uri": "https://localhost:8080/"
        },
        "id": "Lf6oG-QuInd3",
        "outputId": "347aa72c-2751-4d4a-8872-db0cb1aca580"
      },
      "source": [
        "data['Airline'].unique()"
      ],
      "execution_count": null,
      "outputs": [
        {
          "output_type": "execute_result",
          "data": {
            "text/plain": [
              "array(['IndiGo', 'Air India', 'Jet Airways', 'SpiceJet',\n",
              "       'Multiple carriers', 'GoAir', 'Vistara', 'Air Asia',\n",
              "       'Multiple carriers Premium economy'], dtype=object)"
            ]
          },
          "metadata": {
            "tags": []
          },
          "execution_count": 1197
        }
      ]
    },
    {
      "cell_type": "code",
      "metadata": {
        "id": "EUQO1TwqC7vp"
      },
      "source": [
        "#Splitting of data into train and test\n",
        "from sklearn.model_selection import train_test_split\n",
        "x=data[['Airline', 'Date_of_Journey', 'Source', 'Destination', 'Route','Dep_Time','Duration', 'Total_Stops','Additional_Info']]\n",
        "y=data['Price']\n",
        "X_train,X_test,y_train,y_test=train_test_split(x,y,test_size=0.2,random_state=33)\n",
        "X_train,X_cv,y_train,y_cv=train_test_split(X_train,y_train,test_size=0.2,random_state=13)"
      ],
      "execution_count": null,
      "outputs": []
    },
    {
      "cell_type": "code",
      "metadata": {
        "id": "GHESqNckIE5P",
        "colab": {
          "base_uri": "https://localhost:8080/"
        },
        "outputId": "556b7ca1-46b6-48dc-9f7b-004829b66c2f"
      },
      "source": [
        "x.head()"
      ],
      "execution_count": null,
      "outputs": [
        {
          "output_type": "execute_result",
          "data": {
            "text/html": [
              "<div>\n",
              "<style scoped>\n",
              "    .dataframe tbody tr th:only-of-type {\n",
              "        vertical-align: middle;\n",
              "    }\n",
              "\n",
              "    .dataframe tbody tr th {\n",
              "        vertical-align: top;\n",
              "    }\n",
              "\n",
              "    .dataframe thead th {\n",
              "        text-align: right;\n",
              "    }\n",
              "</style>\n",
              "<table border=\"1\" class=\"dataframe\">\n",
              "  <thead>\n",
              "    <tr style=\"text-align: right;\">\n",
              "      <th></th>\n",
              "      <th>Airline</th>\n",
              "      <th>Date_of_Journey</th>\n",
              "      <th>Source</th>\n",
              "      <th>Destination</th>\n",
              "      <th>Route</th>\n",
              "      <th>Dep_Time</th>\n",
              "      <th>Duration</th>\n",
              "      <th>Total_Stops</th>\n",
              "      <th>Additional_Info</th>\n",
              "    </tr>\n",
              "  </thead>\n",
              "  <tbody>\n",
              "    <tr>\n",
              "      <th>0</th>\n",
              "      <td>IndiGo</td>\n",
              "      <td>24/03/2019</td>\n",
              "      <td>Banglore</td>\n",
              "      <td>New Delhi</td>\n",
              "      <td>BLR → DEL</td>\n",
              "      <td>22:20</td>\n",
              "      <td>2h 50m</td>\n",
              "      <td>non-stop</td>\n",
              "      <td>No info</td>\n",
              "    </tr>\n",
              "    <tr>\n",
              "      <th>1</th>\n",
              "      <td>Air India</td>\n",
              "      <td>1/05/2019</td>\n",
              "      <td>Kolkata</td>\n",
              "      <td>Banglore</td>\n",
              "      <td>CCU → IXR → BBI → BLR</td>\n",
              "      <td>05:50</td>\n",
              "      <td>7h 25m</td>\n",
              "      <td>2 stops</td>\n",
              "      <td>No info</td>\n",
              "    </tr>\n",
              "    <tr>\n",
              "      <th>2</th>\n",
              "      <td>Jet Airways</td>\n",
              "      <td>9/06/2019</td>\n",
              "      <td>Delhi</td>\n",
              "      <td>Cochin</td>\n",
              "      <td>DEL → LKO → BOM → COK</td>\n",
              "      <td>09:25</td>\n",
              "      <td>19h</td>\n",
              "      <td>2 stops</td>\n",
              "      <td>No info</td>\n",
              "    </tr>\n",
              "    <tr>\n",
              "      <th>3</th>\n",
              "      <td>IndiGo</td>\n",
              "      <td>12/05/2019</td>\n",
              "      <td>Kolkata</td>\n",
              "      <td>Banglore</td>\n",
              "      <td>CCU → NAG → BLR</td>\n",
              "      <td>18:05</td>\n",
              "      <td>5h 25m</td>\n",
              "      <td>1 stop</td>\n",
              "      <td>No info</td>\n",
              "    </tr>\n",
              "    <tr>\n",
              "      <th>4</th>\n",
              "      <td>IndiGo</td>\n",
              "      <td>01/03/2019</td>\n",
              "      <td>Banglore</td>\n",
              "      <td>New Delhi</td>\n",
              "      <td>BLR → NAG → DEL</td>\n",
              "      <td>16:50</td>\n",
              "      <td>4h 45m</td>\n",
              "      <td>1 stop</td>\n",
              "      <td>No info</td>\n",
              "    </tr>\n",
              "  </tbody>\n",
              "</table>\n",
              "</div>"
            ],
            "text/plain": [
              "       Airline Date_of_Journey    Source Destination                  Route  \\\n",
              "0       IndiGo      24/03/2019  Banglore   New Delhi              BLR → DEL   \n",
              "1    Air India       1/05/2019   Kolkata    Banglore  CCU → IXR → BBI → BLR   \n",
              "2  Jet Airways       9/06/2019     Delhi      Cochin  DEL → LKO → BOM → COK   \n",
              "3       IndiGo      12/05/2019   Kolkata    Banglore        CCU → NAG → BLR   \n",
              "4       IndiGo      01/03/2019  Banglore   New Delhi        BLR → NAG → DEL   \n",
              "\n",
              "  Dep_Time Duration Total_Stops Additional_Info  \n",
              "0    22:20   2h 50m    non-stop         No info  \n",
              "1    05:50   7h 25m     2 stops         No info  \n",
              "2    09:25      19h     2 stops         No info  \n",
              "3    18:05   5h 25m      1 stop         No info  \n",
              "4    16:50   4h 45m      1 stop         No info  "
            ]
          },
          "metadata": {
            "tags": []
          },
          "execution_count": 1199
        }
      ]
    },
    {
      "cell_type": "markdown",
      "metadata": {
        "id": "484L_xMOlQ4a"
      },
      "source": [
        "##### **Steps to follow in this stage :**\n",
        "#####**1.** We have to Convert the Date_of_Journey,Dep_time and arrival time Variable and convert date,moth,year,hours,minutes into different columns\n",
        "#####**2.** We have to change the categorical data to one hot encoded vectors\n",
        "#####**3.** We should Convert duration column as 2h 30m to different columns.\n",
        "#####**4.** We should perform all these steps in all the datasets, train,cv,test datasets."
      ]
    },
    {
      "cell_type": "markdown",
      "metadata": {
        "id": "CjQbLc9zsmQP"
      },
      "source": [
        "##### Preprocessing Date_of_Journey column"
      ]
    },
    {
      "cell_type": "code",
      "metadata": {
        "id": "gieLT-pmIE8A"
      },
      "source": [
        "day_variable_train=[i.day for i in pd.to_datetime(X_train['Date_of_Journey'])]\n",
        "day_variable_cv=[i.day for i in pd.to_datetime(X_cv['Date_of_Journey'])]\n",
        "day_variable_test=[i.day for i in pd.to_datetime(X_test['Date_of_Journey'])]\n",
        "\n",
        "month_variable_train=[i.month for i in pd.to_datetime(X_train['Date_of_Journey'])]\n",
        "month_variable_cv=[i.month for i in pd.to_datetime(X_cv['Date_of_Journey'])]\n",
        "month_variable_test=[i.month for i in pd.to_datetime(X_test['Date_of_Journey'])]\n",
        "\n",
        "#We will concat all the variables at last w.r.t each dataset"
      ],
      "execution_count": null,
      "outputs": []
    },
    {
      "cell_type": "markdown",
      "metadata": {
        "id": "6m4tDOms2gMN"
      },
      "source": [
        "##### Preprocessing Dep_Time and Arrival_Time column"
      ]
    },
    {
      "cell_type": "code",
      "metadata": {
        "id": "oUDzCRWuIE-p"
      },
      "source": [
        "#-----------------------------------------------------------------------------------\n",
        "Dep_hour_train=[i.hour for i in pd.to_datetime(X_train['Dep_Time'])]\n",
        "Dep_hour_cv=[i.hour for i in pd.to_datetime(X_cv['Dep_Time'])]\n",
        "Dep_hour_test=[i.hour for i in pd.to_datetime(X_test['Dep_Time'])]\n",
        "\n",
        "Dep_min_train=[i.minute for i in pd.to_datetime(X_train['Dep_Time'])]\n",
        "Dep_min_cv=[i.minute for i in pd.to_datetime(X_cv['Dep_Time'])]\n",
        "Dep_min_test=[i.minute for i in pd.to_datetime(X_test['Dep_Time'])]\n",
        "#--------------------------------------------------------------------------------------\n",
        "\n",
        "# #Here we are removing the date and month in Time given, to make the data clear.\n",
        "\n",
        "# Arrival_Time_train=[i.split(\" \")[0] for i in X_train['Arrival_Time']]\n",
        "# Arrival_Time_cv=[i.split(\" \")[0] for i in X_cv['Arrival_Time']]\n",
        "# Arrival_Time_test=[i.split(\" \")[0] for i in X_test['Arrival_Time']]\n",
        "\n",
        "\n",
        "# Arrival_hour_train=[i.hour for i in pd.to_datetime(Arrival_Time_train)]\n",
        "# Arrival_hour_cv=[i.hour for i in pd.to_datetime(Arrival_Time_cv)]\n",
        "# Arrival_hour_test=[i.hour for i in pd.to_datetime(Arrival_Time_test)]\n",
        "\n",
        "\n",
        "# Arrival_min_train=[i.minute for i in pd.to_datetime(Arrival_Time_train)]\n",
        "# Arrival_min_cv=[i.minute for i in pd.to_datetime(Arrival_Time_cv)]\n",
        "# Arrival_min_test=[i.minute for i in pd.to_datetime(Arrival_Time_test)]\n",
        "\n",
        "\n",
        "#print(\"What we did is we have data in this form '{}', so we made it into '{}' and split as hour '{}' and min '{}' in different columns\".format(X_train['Arrival_Time'][1],Arrival_Time_train[1],Arrival_hour_train[1],Arrival_min_train[1]))"
      ],
      "execution_count": null,
      "outputs": []
    },
    {
      "cell_type": "markdown",
      "metadata": {
        "id": "ClAH8EBT_zku"
      },
      "source": [
        "##### Preprocessing Duration column"
      ]
    },
    {
      "cell_type": "code",
      "metadata": {
        "id": "nWE0N4mK95AB"
      },
      "source": [
        "Duration_hour_train=[int(i.split()[0].strip('h')) if len(i.split())!=1 else i.strip('h') for i in X_train['Duration']]\n",
        "Duration_hour_cv=[int(i.split()[0].strip('h')) if len(i.split())!=1 else i.strip('h') for i in X_cv['Duration']]\n",
        "Duration_hour_test=[int(i.split()[0].strip('h')) if len(i.split())!=1 else i.strip('h') for i in X_test['Duration']]\n",
        "\n",
        "Duration_min_train=[int(i.split()[1].strip('m')) if len(i.split())!=1 else 0 for i in X_train['Duration']]\n",
        "Duration_min_cv=[int(i.split()[1].strip('m')) if len(i.split())!=1 else 0 for i in X_cv['Duration']]\n",
        "Duration_min_test=[int(i.split()[1].strip('m')) if len(i.split())!=1 else 0 for i in X_test['Duration']]\n",
        "\n",
        "#print(\"What we did is, converted {} into {} and {} and converted it to {} and {} and stored in two different columns\".format(X_train['Duration'][1],X_train['Duration'][1].split()[0],X_train['Duration'][1].split()[1],X_train['Duration'][1].split()[0].strip('h'),X_train['Duration'][1].split()[1].strip('m')))"
      ],
      "execution_count": null,
      "outputs": []
    },
    {
      "cell_type": "code",
      "metadata": {
        "id": "zEq5i3C82yhE"
      },
      "source": [
        "# Here we are concatenating all the newly created features\n",
        "\n",
        "X_train_concat=pd.DataFrame({'Day':np.array(day_variable_train),'Month':np.array(month_variable_train),'Dep_Hour':np.array(Dep_hour_train),\n",
        "                             'Dep_min':np.array(Dep_min_train),'Duration_hour':Duration_hour_train,'Duration_min':Duration_min_train})\n",
        "\n",
        "\n",
        "X_test_concat=pd.DataFrame({'Day':np.array(day_variable_test),'Month':np.array(month_variable_test),'Dep_Hour':np.array(Dep_hour_test),\n",
        "                             'Dep_min':np.array(Dep_min_test),'Duration_hour':Duration_hour_test,'Duration_min':Duration_min_test})\n",
        "\n",
        "\n",
        "X_cv_concat=pd.DataFrame({'Day':np.array(day_variable_cv),'Month':np.array(month_variable_cv),'Dep_Hour':np.array(Dep_hour_cv),\n",
        "                             'Dep_min':np.array(Dep_min_cv),'Duration_hour':Duration_hour_cv,'Duration_min':Duration_min_cv})"
      ],
      "execution_count": null,
      "outputs": []
    },
    {
      "cell_type": "code",
      "metadata": {
        "id": "I4vJtFeSFMCf"
      },
      "source": [
        "X_train.reset_index(inplace=True,drop=True)\n",
        "X_cv.reset_index(inplace=True,drop=True)\n",
        "X_test.reset_index(inplace=True,drop=True)"
      ],
      "execution_count": null,
      "outputs": []
    },
    {
      "cell_type": "code",
      "metadata": {
        "id": "DA8ClA5LCipv"
      },
      "source": [
        "# Concatnating the newly created variables with original datasets\n",
        "\n",
        "X_train_final=pd.concat([X_train, X_train_concat],axis=1)\n",
        "X_cv_final=pd.concat([X_cv, X_cv_concat],axis=1)\n",
        "X_test_final=pd.concat([X_test, X_test_concat],axis=1)"
      ],
      "execution_count": null,
      "outputs": []
    },
    {
      "cell_type": "code",
      "metadata": {
        "colab": {
          "base_uri": "https://localhost:8080/"
        },
        "id": "ZJuxAGhZK05i",
        "outputId": "d2a6d93c-1188-441b-d81d-d5301dd00956"
      },
      "source": [
        "X_test_final.head()"
      ],
      "execution_count": null,
      "outputs": [
        {
          "output_type": "execute_result",
          "data": {
            "text/html": [
              "<div>\n",
              "<style scoped>\n",
              "    .dataframe tbody tr th:only-of-type {\n",
              "        vertical-align: middle;\n",
              "    }\n",
              "\n",
              "    .dataframe tbody tr th {\n",
              "        vertical-align: top;\n",
              "    }\n",
              "\n",
              "    .dataframe thead th {\n",
              "        text-align: right;\n",
              "    }\n",
              "</style>\n",
              "<table border=\"1\" class=\"dataframe\">\n",
              "  <thead>\n",
              "    <tr style=\"text-align: right;\">\n",
              "      <th></th>\n",
              "      <th>Airline</th>\n",
              "      <th>Date_of_Journey</th>\n",
              "      <th>Source</th>\n",
              "      <th>Destination</th>\n",
              "      <th>Route</th>\n",
              "      <th>Dep_Time</th>\n",
              "      <th>Duration</th>\n",
              "      <th>Total_Stops</th>\n",
              "      <th>Additional_Info</th>\n",
              "      <th>Day</th>\n",
              "      <th>Month</th>\n",
              "      <th>Dep_Hour</th>\n",
              "      <th>Dep_min</th>\n",
              "      <th>Duration_hour</th>\n",
              "      <th>Duration_min</th>\n",
              "    </tr>\n",
              "  </thead>\n",
              "  <tbody>\n",
              "    <tr>\n",
              "      <th>0</th>\n",
              "      <td>Air India</td>\n",
              "      <td>1/06/2019</td>\n",
              "      <td>Banglore</td>\n",
              "      <td>Delhi</td>\n",
              "      <td>BLR → DEL</td>\n",
              "      <td>21:05</td>\n",
              "      <td>2h 50m</td>\n",
              "      <td>non-stop</td>\n",
              "      <td>No info</td>\n",
              "      <td>6</td>\n",
              "      <td>1</td>\n",
              "      <td>21</td>\n",
              "      <td>5</td>\n",
              "      <td>2</td>\n",
              "      <td>50</td>\n",
              "    </tr>\n",
              "    <tr>\n",
              "      <th>1</th>\n",
              "      <td>GoAir</td>\n",
              "      <td>24/06/2019</td>\n",
              "      <td>Delhi</td>\n",
              "      <td>Cochin</td>\n",
              "      <td>DEL → BOM → COK</td>\n",
              "      <td>14:25</td>\n",
              "      <td>5h 10m</td>\n",
              "      <td>1 stop</td>\n",
              "      <td>No info</td>\n",
              "      <td>24</td>\n",
              "      <td>6</td>\n",
              "      <td>14</td>\n",
              "      <td>25</td>\n",
              "      <td>5</td>\n",
              "      <td>10</td>\n",
              "    </tr>\n",
              "    <tr>\n",
              "      <th>2</th>\n",
              "      <td>Air India</td>\n",
              "      <td>21/05/2019</td>\n",
              "      <td>Delhi</td>\n",
              "      <td>Cochin</td>\n",
              "      <td>DEL → BLR → COK</td>\n",
              "      <td>17:40</td>\n",
              "      <td>14h 35m</td>\n",
              "      <td>1 stop</td>\n",
              "      <td>No info</td>\n",
              "      <td>21</td>\n",
              "      <td>5</td>\n",
              "      <td>17</td>\n",
              "      <td>40</td>\n",
              "      <td>14</td>\n",
              "      <td>35</td>\n",
              "    </tr>\n",
              "    <tr>\n",
              "      <th>3</th>\n",
              "      <td>Jet Airways</td>\n",
              "      <td>12/06/2019</td>\n",
              "      <td>Delhi</td>\n",
              "      <td>Cochin</td>\n",
              "      <td>DEL → BOM → COK</td>\n",
              "      <td>08:00</td>\n",
              "      <td>20h 25m</td>\n",
              "      <td>1 stop</td>\n",
              "      <td>In-flight meal not included</td>\n",
              "      <td>6</td>\n",
              "      <td>12</td>\n",
              "      <td>8</td>\n",
              "      <td>0</td>\n",
              "      <td>20</td>\n",
              "      <td>25</td>\n",
              "    </tr>\n",
              "    <tr>\n",
              "      <th>4</th>\n",
              "      <td>Air India</td>\n",
              "      <td>27/05/2019</td>\n",
              "      <td>Delhi</td>\n",
              "      <td>Cochin</td>\n",
              "      <td>DEL → GOI → BOM → COK</td>\n",
              "      <td>10:55</td>\n",
              "      <td>8h 20m</td>\n",
              "      <td>2 stops</td>\n",
              "      <td>No info</td>\n",
              "      <td>27</td>\n",
              "      <td>5</td>\n",
              "      <td>10</td>\n",
              "      <td>55</td>\n",
              "      <td>8</td>\n",
              "      <td>20</td>\n",
              "    </tr>\n",
              "  </tbody>\n",
              "</table>\n",
              "</div>"
            ],
            "text/plain": [
              "       Airline Date_of_Journey    Source Destination                  Route  \\\n",
              "0    Air India       1/06/2019  Banglore       Delhi              BLR → DEL   \n",
              "1        GoAir      24/06/2019     Delhi      Cochin        DEL → BOM → COK   \n",
              "2    Air India      21/05/2019     Delhi      Cochin        DEL → BLR → COK   \n",
              "3  Jet Airways      12/06/2019     Delhi      Cochin        DEL → BOM → COK   \n",
              "4    Air India      27/05/2019     Delhi      Cochin  DEL → GOI → BOM → COK   \n",
              "\n",
              "  Dep_Time Duration Total_Stops              Additional_Info  Day  Month  \\\n",
              "0    21:05   2h 50m    non-stop                      No info    6      1   \n",
              "1    14:25   5h 10m      1 stop                      No info   24      6   \n",
              "2    17:40  14h 35m      1 stop                      No info   21      5   \n",
              "3    08:00  20h 25m      1 stop  In-flight meal not included    6     12   \n",
              "4    10:55   8h 20m     2 stops                      No info   27      5   \n",
              "\n",
              "   Dep_Hour  Dep_min Duration_hour  Duration_min  \n",
              "0        21        5             2            50  \n",
              "1        14       25             5            10  \n",
              "2        17       40            14            35  \n",
              "3         8        0            20            25  \n",
              "4        10       55             8            20  "
            ]
          },
          "metadata": {
            "tags": []
          },
          "execution_count": 1206
        }
      ]
    },
    {
      "cell_type": "code",
      "metadata": {
        "id": "314fzoFXK08l"
      },
      "source": [
        "#Removing the unwanted Columns\n",
        "\n",
        "X_train_final.drop(['Route','Additional_Info','Date_of_Journey','Dep_Time','Duration'],inplace=True,axis=1)\n",
        "X_cv_final.drop(['Route','Additional_Info','Date_of_Journey','Dep_Time','Duration'],inplace=True,axis=1)\n",
        "X_test_final.drop(['Route','Additional_Info','Date_of_Journey','Dep_Time','Duration'],inplace=True,axis=1)"
      ],
      "execution_count": null,
      "outputs": []
    },
    {
      "cell_type": "code",
      "metadata": {
        "id": "Vw8E5ESfK0_N"
      },
      "source": [
        "#Creating the one hot encoding of the categorical variables and storing \n",
        "\n",
        "X_trainn=pd.get_dummies(data=X_train_final, columns=['Airline','Source','Destination','Total_Stops'])\n",
        "X_testt=pd.get_dummies(data=X_test_final, columns=['Airline','Source','Destination','Total_Stops'])\n",
        "X_cvv=pd.get_dummies(data=X_cv_final, columns=['Airline','Source','Destination','Total_Stops'])"
      ],
      "execution_count": null,
      "outputs": []
    },
    {
      "cell_type": "code",
      "metadata": {
        "id": "81D4ugsgOZNx"
      },
      "source": [
        "X_trainn.head()\n",
        "X_trainn.replace('5m',5,inplace=True)"
      ],
      "execution_count": null,
      "outputs": []
    },
    {
      "cell_type": "code",
      "metadata": {
        "id": "pgaazObph1vj"
      },
      "source": [
        "y_train.reset_index(drop=True,inplace=True)\n",
        "y_cv.reset_index(drop=True,inplace=True)\n",
        "y_test.reset_index(drop=True,inplace=True)"
      ],
      "execution_count": null,
      "outputs": []
    },
    {
      "cell_type": "code",
      "metadata": {
        "colab": {
          "base_uri": "https://localhost:8080/"
        },
        "id": "ccAm19v3eA0w",
        "outputId": "756f73d3-21a1-4c87-dcfd-372e2e2812fd"
      },
      "source": [
        "#Saving the datasets\n",
        "\n",
        "from google.colab import files\n",
        "\n",
        "X_train_save=pd.concat([X_trainn, y_train],axis=1)\n",
        "X_cv_save=pd.concat([X_cvv, y_cv],axis=1)\n",
        "X_test_save=pd.concat([X_testt, y_test],axis=1)\n",
        "\n",
        "X_train_save.to_excel(\"Flight_Fare_train.xlsx\")\n",
        "X_cv_save.to_excel(\"Flight_Fare_cv.xlsx\")\n",
        "X_test_save.to_excel(\"Flight_Fare_test.xlsx\")\n",
        "\n",
        "\n",
        "files.download('Flight_Fare_train.xlsx')\n",
        "files.download('Flight_Fare_cv.xlsx')\n",
        "files.download('Flight_Fare_test.xlsx')"
      ],
      "execution_count": null,
      "outputs": [
        {
          "output_type": "display_data",
          "data": {
            "application/javascript": [
              "\n",
              "    async function download(id, filename, size) {\n",
              "      if (!google.colab.kernel.accessAllowed) {\n",
              "        return;\n",
              "      }\n",
              "      const div = document.createElement('div');\n",
              "      const label = document.createElement('label');\n",
              "      label.textContent = `Downloading \"${filename}\": `;\n",
              "      div.appendChild(label);\n",
              "      const progress = document.createElement('progress');\n",
              "      progress.max = size;\n",
              "      div.appendChild(progress);\n",
              "      document.body.appendChild(div);\n",
              "\n",
              "      const buffers = [];\n",
              "      let downloaded = 0;\n",
              "\n",
              "      const channel = await google.colab.kernel.comms.open(id);\n",
              "      // Send a message to notify the kernel that we're ready.\n",
              "      channel.send({})\n",
              "\n",
              "      for await (const message of channel.messages) {\n",
              "        // Send a message to notify the kernel that we're ready.\n",
              "        channel.send({})\n",
              "        if (message.buffers) {\n",
              "          for (const buffer of message.buffers) {\n",
              "            buffers.push(buffer);\n",
              "            downloaded += buffer.byteLength;\n",
              "            progress.value = downloaded;\n",
              "          }\n",
              "        }\n",
              "      }\n",
              "      const blob = new Blob(buffers, {type: 'application/binary'});\n",
              "      const a = document.createElement('a');\n",
              "      a.href = window.URL.createObjectURL(blob);\n",
              "      a.download = filename;\n",
              "      div.appendChild(a);\n",
              "      a.click();\n",
              "      div.remove();\n",
              "    }\n",
              "  "
            ],
            "text/plain": [
              "<IPython.core.display.Javascript object>"
            ]
          },
          "metadata": {
            "tags": []
          }
        },
        {
          "output_type": "display_data",
          "data": {
            "application/javascript": [
              "download(\"download_cfb81e04-358f-4ffb-a5b7-81482f3abd74\", \"Flight_Fare_train.xlsx\", 666073)"
            ],
            "text/plain": [
              "<IPython.core.display.Javascript object>"
            ]
          },
          "metadata": {
            "tags": []
          }
        },
        {
          "output_type": "display_data",
          "data": {
            "application/javascript": [
              "\n",
              "    async function download(id, filename, size) {\n",
              "      if (!google.colab.kernel.accessAllowed) {\n",
              "        return;\n",
              "      }\n",
              "      const div = document.createElement('div');\n",
              "      const label = document.createElement('label');\n",
              "      label.textContent = `Downloading \"${filename}\": `;\n",
              "      div.appendChild(label);\n",
              "      const progress = document.createElement('progress');\n",
              "      progress.max = size;\n",
              "      div.appendChild(progress);\n",
              "      document.body.appendChild(div);\n",
              "\n",
              "      const buffers = [];\n",
              "      let downloaded = 0;\n",
              "\n",
              "      const channel = await google.colab.kernel.comms.open(id);\n",
              "      // Send a message to notify the kernel that we're ready.\n",
              "      channel.send({})\n",
              "\n",
              "      for await (const message of channel.messages) {\n",
              "        // Send a message to notify the kernel that we're ready.\n",
              "        channel.send({})\n",
              "        if (message.buffers) {\n",
              "          for (const buffer of message.buffers) {\n",
              "            buffers.push(buffer);\n",
              "            downloaded += buffer.byteLength;\n",
              "            progress.value = downloaded;\n",
              "          }\n",
              "        }\n",
              "      }\n",
              "      const blob = new Blob(buffers, {type: 'application/binary'});\n",
              "      const a = document.createElement('a');\n",
              "      a.href = window.URL.createObjectURL(blob);\n",
              "      a.download = filename;\n",
              "      div.appendChild(a);\n",
              "      a.click();\n",
              "      div.remove();\n",
              "    }\n",
              "  "
            ],
            "text/plain": [
              "<IPython.core.display.Javascript object>"
            ]
          },
          "metadata": {
            "tags": []
          }
        },
        {
          "output_type": "display_data",
          "data": {
            "application/javascript": [
              "download(\"download_84b97828-4efb-463a-81d1-1906c6a2d4e0\", \"Flight_Fare_cv.xlsx\", 166860)"
            ],
            "text/plain": [
              "<IPython.core.display.Javascript object>"
            ]
          },
          "metadata": {
            "tags": []
          }
        },
        {
          "output_type": "display_data",
          "data": {
            "application/javascript": [
              "\n",
              "    async function download(id, filename, size) {\n",
              "      if (!google.colab.kernel.accessAllowed) {\n",
              "        return;\n",
              "      }\n",
              "      const div = document.createElement('div');\n",
              "      const label = document.createElement('label');\n",
              "      label.textContent = `Downloading \"${filename}\": `;\n",
              "      div.appendChild(label);\n",
              "      const progress = document.createElement('progress');\n",
              "      progress.max = size;\n",
              "      div.appendChild(progress);\n",
              "      document.body.appendChild(div);\n",
              "\n",
              "      const buffers = [];\n",
              "      let downloaded = 0;\n",
              "\n",
              "      const channel = await google.colab.kernel.comms.open(id);\n",
              "      // Send a message to notify the kernel that we're ready.\n",
              "      channel.send({})\n",
              "\n",
              "      for await (const message of channel.messages) {\n",
              "        // Send a message to notify the kernel that we're ready.\n",
              "        channel.send({})\n",
              "        if (message.buffers) {\n",
              "          for (const buffer of message.buffers) {\n",
              "            buffers.push(buffer);\n",
              "            downloaded += buffer.byteLength;\n",
              "            progress.value = downloaded;\n",
              "          }\n",
              "        }\n",
              "      }\n",
              "      const blob = new Blob(buffers, {type: 'application/binary'});\n",
              "      const a = document.createElement('a');\n",
              "      a.href = window.URL.createObjectURL(blob);\n",
              "      a.download = filename;\n",
              "      div.appendChild(a);\n",
              "      a.click();\n",
              "      div.remove();\n",
              "    }\n",
              "  "
            ],
            "text/plain": [
              "<IPython.core.display.Javascript object>"
            ]
          },
          "metadata": {
            "tags": []
          }
        },
        {
          "output_type": "display_data",
          "data": {
            "application/javascript": [
              "download(\"download_bc67fc10-559e-437d-839f-3394d34835a2\", \"Flight_Fare_test.xlsx\", 208487)"
            ],
            "text/plain": [
              "<IPython.core.display.Javascript object>"
            ]
          },
          "metadata": {
            "tags": []
          }
        }
      ]
    },
    {
      "cell_type": "markdown",
      "metadata": {
        "id": "A-EHFeGHRj5m"
      },
      "source": [
        "##### Now we have our data ready for modelling stage."
      ]
    },
    {
      "cell_type": "markdown",
      "metadata": {
        "id": "BPLJSZ36SEDG"
      },
      "source": [
        "####**4.Modeling the data using MLA(Machine Learning Algorithms)**"
      ]
    },
    {
      "cell_type": "markdown",
      "metadata": {
        "id": "k9pxuCkZXRBA"
      },
      "source": [
        "###### **Train Data Overview**\n",
        "###### Rows - 6641\n",
        "###### Columns - 34 (Independent)\n",
        "######**0.** Choosing evaluation metric\n",
        "###### **1.** As we are having less Rows and columns, we can train Algorithms.\n",
        "###### **2.** We don't have latency requirement, but should give the output in less than a sec when given query point.\n",
        "######**3.** As this is Regression Problem, we can use KNN, Linear Regression, Decision Trees, SVM, Random Forest.\n",
        "######**4.** We can use Ensemble techniques if we have overfitting or underfitting problem.\n",
        "######**4.1.** If we can't solve using ML, we can use DL.\n",
        "\\\n",
        "###### **5. Plan to do Modeling:**\n",
        "###### 5.1 Make Data ready\n",
        "###### 5.2 Train a model on Training Data\n",
        "###### 5.3 Evaluate model on Training data and cv data\n",
        "###### 5.4 Checking for overfitting or underfitting.\n",
        "###### 5.5 Hyperparameter Tuning and Training with best hyperparameters\n",
        "###### 5.6 After getting best results, report the scores.\n"
      ]
    },
    {
      "cell_type": "markdown",
      "metadata": {
        "id": "hIPTff0cv4Q8"
      },
      "source": [
        "######**6.Some of the error metrics we have are**\n",
        "1. MAPE\n",
        "2. MAD\n",
        "3. MAE\n",
        "3. RMSE\n",
        "4. MSE\n",
        "\n",
        "**1.**In MAPE we will be doing percentage and it can deviate my metric with single large error.\n",
        "\n",
        "**2.**We will be using MAD(Median Absolute Deviation) as an error metric because we don't want ourr metric to effect by outlier errors. So, we are using median and performing doing absolute instead of Squaring because we want our errors to be in same units.\n",
        "\n",
        "**3**.MeanAE,RMSE,MSE, we do squaring or do mean, so we are not using it."
      ]
    },
    {
      "cell_type": "markdown",
      "metadata": {
        "id": "o64W8biviA3x"
      },
      "source": [
        "##### Training a basic mean model to set a boundary, as MAD between is [0,infinity)"
      ]
    },
    {
      "cell_type": "code",
      "metadata": {
        "id": "LLFDFfylbJHq"
      },
      "source": [
        "#Reading the data\n",
        "\n",
        "train=pd.read_excel(\"Flight_Fare_train.xlsx\")\n",
        "cv=pd.read_excel(\"Flight_Fare_cv.xlsx\")\n",
        "test=pd.read_excel(\"Flight_Fare_test.xlsx\")\n"
      ],
      "execution_count": null,
      "outputs": []
    },
    {
      "cell_type": "markdown",
      "metadata": {
        "id": "Xg9yZJPa6vqk"
      },
      "source": [
        ""
      ]
    },
    {
      "cell_type": "code",
      "metadata": {
        "id": "dQCoOBKAgUxl"
      },
      "source": [
        "#Slicing the dataset to X,y\n",
        "\n",
        "X_trainn = train.drop(['Price','Unnamed: 0'],axis=1)\n",
        "X_cvv = cv.drop(['Price','Unnamed: 0'],axis=1)\n",
        "X_testt = test.drop(['Price','Unnamed: 0'],axis=1)\n",
        "\n",
        "y_train=train['Price']\n",
        "y_cv=cv['Price']\n",
        "y_test=test['Price']\n",
        "\n",
        "#Scaling the data, as many models work when the data is scaled.\n",
        "\n",
        "from sklearn.preprocessing import StandardScaler\n",
        "\n",
        "scaler = StandardScaler()\n",
        "\n",
        "scaler.fit(X_trainn)\n",
        "\n",
        "X_train = scaler.transform(X_trainn)\n",
        "X_cv = scaler.transform(X_cvv)\n",
        "X_test = scaler.transform(X_testt)"
      ],
      "execution_count": null,
      "outputs": []
    },
    {
      "cell_type": "markdown",
      "metadata": {
        "id": "Df0R2Twcy2Je"
      },
      "source": [
        "##### **Simple mean model to set the Boundary between 0 and Infinity**"
      ]
    },
    {
      "cell_type": "code",
      "metadata": {
        "colab": {
          "base_uri": "https://localhost:8080/"
        },
        "id": "tPfM2x4_SCko",
        "outputId": "9bf5ec5f-3264-40bd-a663-f67328b9417f"
      },
      "source": [
        "from sklearn.metrics import median_absolute_error\n",
        "from sklearn.metrics import mean_absolute_error\n",
        "\n",
        "y_pred_train=[y_train.median() for i in range(len(y_train))]\n",
        "y_pred_cv=[y_cv.median() for i in range(len(y_cv))]\n",
        "print(\"\\033[1m\"+\"Result after predicting with median value:\"+'\\033[0m')\n",
        "print(\" \")\n",
        "print(\"1. MAD for Train data with simple mean model is \"+str(median_absolute_error(y_train,y_pred_train)))\n",
        "print(\"2. MAD for cv data with simple mean model is \"+str(median_absolute_error(y_cv,y_pred_cv)))\n",
        "print(\" \")\n",
        "print(\"\\033[1m\"+\"Points to remember:\"+'\\033[0m')\n",
        "print(\" \")\n",
        "print(\"1. The models that we train from now should have the range between 0 and 3382 for train and 0 to 3522 for cv data.\")\n",
        "print(\"2. The more too close to 0, the more good is the model.The model too close to 3382 or 3522, the more worse is the model.\")"
      ],
      "execution_count": null,
      "outputs": [
        {
          "output_type": "stream",
          "text": [
            "\u001b[1mResult after predicting with median value:\u001b[0m\n",
            " \n",
            "1. MAD for Train data with simple mean model is 3428.5\n",
            "2. MAD for cv data with simple mean model is 3382.5\n",
            " \n",
            "\u001b[1mPoints to remember:\u001b[0m\n",
            " \n",
            "1. The models that we train from now should have the range between 0 and 3382 for train and 0 to 3522 for cv data.\n",
            "2. The more too close to 0, the more good is the model.The model too close to 3382 or 3522, the more worse is the model.\n"
          ],
          "name": "stdout"
        }
      ]
    },
    {
      "cell_type": "code",
      "metadata": {
        "id": "9XWFr-mL8l7T"
      },
      "source": [
        ""
      ],
      "execution_count": null,
      "outputs": []
    },
    {
      "cell_type": "markdown",
      "metadata": {
        "id": "GQ0q9oXxyo0Y"
      },
      "source": [
        "##### **Modeling using KNN**"
      ]
    },
    {
      "cell_type": "code",
      "metadata": {
        "id": "_DMvh-kGmBvA"
      },
      "source": [
        "#Implementing  knn without hyper parameter tuning\n",
        "\n",
        "from sklearn.neighbors import KNeighborsRegressor\n",
        "\n",
        "knn_model=KNeighborsRegressor()\n",
        "knn_model.fit(X_train,y_train)\n",
        "y_pred_train=knn_model.predict(X_train)\n",
        "y_pred_cv=knn_model.predict(X_cv)"
      ],
      "execution_count": null,
      "outputs": []
    },
    {
      "cell_type": "code",
      "metadata": {
        "colab": {
          "base_uri": "https://localhost:8080/"
        },
        "id": "usUsMGUAK9SG",
        "outputId": "316f9d03-954e-4262-9798-f332a30d3b06"
      },
      "source": [
        "#Checking the scores with KNN without hyper parameter tuning\n",
        "\n",
        "print(\"\\033[1m\"+\"Result after predicting KNN without hyper parameter tuning:\"+'\\033[0m')\n",
        "print(\" \")\n",
        "print(\"1. MAD for Train data with Knn(Without Tuning) is \"+str(median_absolute_error(y_train,y_pred_train)))\n",
        "print(\"2. MAD for cv data with Knn(Without Tuning) is \"+str(median_absolute_error(y_cv,y_pred_cv)))\n",
        "print(\" \")\n",
        "print(\"\\033[1m\"+\"Points to remember:\"+'\\033[0m')\n",
        "print(\" \")\n",
        "print(\"1. This model is pretty good, even without doing hyperparameter tuning, MAD has moved away from our mean model MAD\")"
      ],
      "execution_count": null,
      "outputs": [
        {
          "output_type": "stream",
          "text": [
            "\u001b[1mResult after predicting KNN without hyper parameter tuning:\u001b[0m\n",
            " \n",
            "1. MAD for Train data with Knn(Without Tuning) is 827.7999999999993\n",
            "2. MAD for cv data with Knn(Without Tuning) is 1018.8999999999996\n",
            " \n",
            "\u001b[1mPoints to remember:\u001b[0m\n",
            " \n",
            "1. This model is pretty good, even without doing hyperparameter tuning, MAD has moved away from our mean model MAD\n"
          ],
          "name": "stdout"
        }
      ]
    },
    {
      "cell_type": "code",
      "metadata": {
        "colab": {
          "base_uri": "https://localhost:8080/"
        },
        "id": "YOmtkPUlMgLL",
        "outputId": "77c0d63a-d019-4bb7-9184-2ec8eafc9e42"
      },
      "source": [
        "print(\"Train R-squared score \" + str(best_knn.score(X_train,y_train)))\n",
        "print(\"CV R-squared score \" + str(best_knn.score(X_cv,y_cv)))"
      ],
      "execution_count": null,
      "outputs": [
        {
          "output_type": "stream",
          "text": [
            "Train R-squared score 0.7967853070786243\n",
            "CV R-squared score 0.7811472884394012\n"
          ],
          "name": "stdout"
        }
      ]
    },
    {
      "cell_type": "markdown",
      "metadata": {
        "id": "9WH2WFGryPgs"
      },
      "source": [
        "###### **Result after predicting KNN without hyper parameter tuning:**\n",
        " \n",
        "###### **1.** MAD for Train data with Knn(Without Tuning) is 827.7999999999993\n",
        "###### **2**. MAD for cv data with Knn(Without Tuning) is 1018.8999999999996\n",
        " \n",
        "######**Points to remember:**\n",
        " \n",
        "###### **1.** This model is pretty good, even without doing hyperparameter tuning, MAD has moved away from our mean model MAD"
      ]
    },
    {
      "cell_type": "code",
      "metadata": {
        "colab": {
          "base_uri": "https://localhost:8080/"
        },
        "id": "_yHebGygKv0l",
        "outputId": "c4e82cfb-fc99-43cd-bef8-86763f8168f1"
      },
      "source": [
        "#Hyperparameter tuning\n",
        "#For Knn, the hyperparameters are 1. Number of neighbours 2. Distance metric 3.Weights\n",
        "from sklearn.model_selection import RandomizedSearchCV\n",
        "\n",
        "params={\n",
        "    'n_neighbors':[2,3,4,5,6,7,8,9,10],\n",
        "    'weights':['uniform','distance'],\n",
        "    'p':[1,2]\n",
        "}\n",
        "\n",
        "knn_model=KNeighborsRegressor()\n",
        "knn_tuned=RandomizedSearchCV(knn_model,params,verbose=0)\n",
        "knn_tuned.fit(X_train,y_train)\n",
        "knn_tuned.best_estimator_"
      ],
      "execution_count": null,
      "outputs": [
        {
          "output_type": "execute_result",
          "data": {
            "text/plain": [
              "KNeighborsRegressor(algorithm='auto', leaf_size=30, metric='minkowski',\n",
              "                    metric_params=None, n_jobs=None, n_neighbors=7, p=1,\n",
              "                    weights='uniform')"
            ]
          },
          "metadata": {
            "tags": []
          },
          "execution_count": 8
        }
      ]
    },
    {
      "cell_type": "code",
      "metadata": {
        "id": "ETN3w6f8vn5G"
      },
      "source": [
        "# Predicting the X_train,X_cv using tuned model\n",
        "best_knn=knn_tuned.best_estimator_\n",
        "y_pred_train=best_knn.predict(X_train)\n",
        "y_pred_cv=best_knn.predict(X_cv)"
      ],
      "execution_count": null,
      "outputs": []
    },
    {
      "cell_type": "code",
      "metadata": {
        "colab": {
          "base_uri": "https://localhost:8080/"
        },
        "id": "22IGnjJIL7KN",
        "outputId": "f73f1e0b-91ca-461e-af89-0edc680f113b"
      },
      "source": [
        "print(\"Train R-squared score \" + str(best_knn.score(X_train,y_train)))\n",
        "print(\"CV R-squared score \" + str(best_knn.score(X_cv,y_cv)))"
      ],
      "execution_count": null,
      "outputs": [
        {
          "output_type": "stream",
          "text": [
            "Train R-squared score 0.7967853070786243\n",
            "CV R-squared score 0.7811472884394012\n"
          ],
          "name": "stdout"
        }
      ]
    },
    {
      "cell_type": "code",
      "metadata": {
        "colab": {
          "base_uri": "https://localhost:8080/"
        },
        "id": "Iccu0vXxZvLf",
        "outputId": "21df8d4c-50d0-44e8-a425-74c6d563a09e"
      },
      "source": [
        "#Results of Tuned model on Train,cv data using MAD metric\n",
        "print(\"\\033[1m\"+\"Result after predicting with kNN after Hyperparameter tuning:\"+'\\033[0m')\n",
        "print(\" \")\n",
        "print(\"1. MAD for Train data with Knn(Without Tuning) is \"+str(median_absolute_error(y_train,y_pred_train)))\n",
        "print(\"2. MAD for cv data with Knn(Without Tuning) is \"+str(median_absolute_error(y_cv,y_pred_cv)))\n",
        "print(\" \")\n",
        "print(\"\\033[1m\"+\"Points to remember:\"+'\\033[0m')\n",
        "print(\" \")\n",
        "print(\"1. We can clearly see how the MAD decreased in train data and cv data.\")"
      ],
      "execution_count": null,
      "outputs": [
        {
          "output_type": "stream",
          "text": [
            "\u001b[1mResult after predicting with kNN after Hyperparameter tuning:\u001b[0m\n",
            " \n",
            "1. MAD for Train data with Knn(Without Tuning) is 863.7857142857142\n",
            "2. MAD for cv data with Knn(Without Tuning) is 980.0\n",
            " \n",
            "\u001b[1mPoints to remember:\u001b[0m\n",
            " \n",
            "1. We can clearly see how the MAD decreased in train data and cv data.\n"
          ],
          "name": "stdout"
        }
      ]
    },
    {
      "cell_type": "markdown",
      "metadata": {
        "id": "NVIX4xqYx79G"
      },
      "source": [
        "######**Result after predicting with kNN after Hyperparameter tuning:**\n",
        " \n",
        "######**1.** MAD for Train data with Knn(Without Tuning) is 863.7857142857142\n",
        "\n",
        "######**2.** MAD for cv data with Knn(Without Tuning) is 980.0\n",
        " \n",
        "######**Points to remember:**\n",
        " \n",
        "######**1.** We can clearly see how the MAD decreased in cv data and increased slightly in train data."
      ]
    },
    {
      "cell_type": "code",
      "metadata": {
        "id": "lf80Bdoq-pUg"
      },
      "source": [
        "#@title\n",
        "!pip install prettytable"
      ],
      "execution_count": null,
      "outputs": []
    },
    {
      "cell_type": "code",
      "metadata": {
        "colab": {
          "base_uri": "https://localhost:8080/"
        },
        "id": "MrheTSC1-mME",
        "cellView": "form",
        "outputId": "16b4a907-9502-4454-bdea-7f6f73d2e243"
      },
      "source": [
        "#@title\n",
        "{\n",
        "    \"tags\": [\n",
        "        \"hide_input\",\n",
        "    ]\n",
        "}\n",
        "from prettytable import PrettyTable\n",
        "\n",
        "# The Score is Median Absolute Deviation (MAD)\n",
        "print(\"\\033[1m\"+\"The Score we are using is Median Absolute Deviation:\"+'\\033[0m')\n",
        "print(\" \")\n",
        "myTable = PrettyTable([\"Model\", \"Train - Before Tuning\",\"CV - Before Tuning\",\"Train - After Tuning\",\"CV - After Tuning\"])\n",
        "  \n",
        "# Add rows\n",
        "\n",
        "myTable.add_row([\"Simple Mean Model\", \"3428\", \"3382\", \"-\", \"-\"])\n",
        "myTable.add_row([\"KNN\", \"827\", \"1018\", \"863\", \"980\"])\n",
        "  \n",
        "print(myTable)"
      ],
      "execution_count": null,
      "outputs": [
        {
          "output_type": "stream",
          "text": [
            "\u001b[1mThe Score we are using is Median Absolute Deviation:\u001b[0m\n",
            " \n",
            "+-------------------------------+-----------------------+--------------------+----------------------+-------------------+\n",
            "|             Model             | Train - Before Tuning | CV - Before Tuning | Train - After Tuning | CV - After Tuning |\n",
            "+-------------------------------+-----------------------+--------------------+----------------------+-------------------+\n",
            "| Simple Mean Model(Dumb Model) |          3428         |        3382        |          -           |         -         |\n",
            "|              KNN              |          827          |        1018        |         863          |        980        |\n",
            "+-------------------------------+-----------------------+--------------------+----------------------+-------------------+\n"
          ],
          "name": "stdout"
        }
      ]
    },
    {
      "cell_type": "markdown",
      "metadata": {
        "id": "Z4yxlyFXziaW"
      },
      "source": [
        "##### **Modeling using Linear Regression**"
      ]
    },
    {
      "cell_type": "code",
      "metadata": {
        "id": "SnVK92YJzzX2",
        "colab": {
          "base_uri": "https://localhost:8080/"
        },
        "outputId": "84682a84-8ff0-42a2-b2f1-1048a11e90df"
      },
      "source": [
        "from sklearn.linear_model import SGDRegressor\n",
        "from sklearn.model_selection import GridSearchCV\n",
        "\n",
        "\n",
        "params={\n",
        "    'penalty':['l2', 'l1', 'elasticnet'],\n",
        "    'alpha':[10**-4,10**-3,10**-2,10,10**2,10**3,10**4]\n",
        "}\n",
        "\n",
        "model=SGDRegressor(fit_intercept=False)\n",
        "\n",
        "model_tuned=GridSearchCV(model,params,verbose=0)\n",
        "model_tuned.fit(X_train,y_train)\n",
        "model_tuned.best_estimator_"
      ],
      "execution_count": null,
      "outputs": [
        {
          "output_type": "execute_result",
          "data": {
            "text/plain": [
              "SGDRegressor(alpha=0.01, average=False, early_stopping=False, epsilon=0.1,\n",
              "             eta0=0.01, fit_intercept=False, l1_ratio=0.15,\n",
              "             learning_rate='invscaling', loss='squared_loss', max_iter=1000,\n",
              "             n_iter_no_change=5, penalty='l2', power_t=0.25, random_state=None,\n",
              "             shuffle=True, tol=0.001, validation_fraction=0.1, verbose=0,\n",
              "             warm_start=False)"
            ]
          },
          "metadata": {
            "tags": []
          },
          "execution_count": 12
        }
      ]
    },
    {
      "cell_type": "code",
      "metadata": {
        "id": "06rHv0Ar30w9"
      },
      "source": [
        ""
      ],
      "execution_count": null,
      "outputs": []
    },
    {
      "cell_type": "code",
      "metadata": {
        "colab": {
          "base_uri": "https://localhost:8080/"
        },
        "cellView": "form",
        "id": "Q_bEAqXi4QhI",
        "outputId": "3c45e442-7050-410d-d3f7-43d97226490e"
      },
      "source": [
        "#@title\n",
        "from lazypredict.Supervised import LazyRegressor\n",
        "\n",
        "reg = LazyRegressor(verbose=0, ignore_warnings=False, custom_metric=None)\n",
        "models, predictions = reg.fit(X_train, X_cv, y_train, y_cv)\n",
        "\n",
        "\n",
        "print(models.to_string())"
      ],
      "execution_count": null,
      "outputs": [
        {
          "output_type": "stream",
          "text": [
            "100%|██████████| 42/42 [00:43<00:00,  1.05s/it]\n"
          ],
          "name": "stderr"
        }
      ]
    },
    {
      "cell_type": "code",
      "metadata": {
        "id": "MdC4BXlRzzlQ"
      },
      "source": [
        "# Predicting the X_train,X_cv using tuned model\n",
        "best_model=model_tuned.best_estimator_\n",
        "y_pred_train=best_model.predict(X_train)\n",
        "y_pred_cv=best_model.predict(X_cv)"
      ],
      "execution_count": null,
      "outputs": []
    },
    {
      "cell_type": "code",
      "metadata": {
        "colab": {
          "base_uri": "https://localhost:8080/"
        },
        "id": "tCkj0YQnNr7L",
        "outputId": "e4918561-4b59-4315-d690-88d06502ce5d"
      },
      "source": [
        "print(\"Train R-squared score \" + str(best_model.score(X_train,y_train)))\n",
        "print(\"CV R-squared score \" + str(best_model.score(X_cv,y_cv)))"
      ],
      "execution_count": null,
      "outputs": [
        {
          "output_type": "stream",
          "text": [
            "Train R-squared score -3.5470043136316196\n",
            "CV R-squared score -3.715406702347731\n"
          ],
          "name": "stdout"
        }
      ]
    },
    {
      "cell_type": "code",
      "metadata": {
        "colab": {
          "base_uri": "https://localhost:8080/"
        },
        "id": "CFDDTEhDNuzd",
        "outputId": "a853f57a-d1a2-4247-d9b2-81a7cb95734b"
      },
      "source": [
        "#Results of Tuned model on Train,cv data using MAD metric\n",
        "print(\"\\033[1m\"+\"Result after predicting with Linear Regression:\"+'\\033[0m')\n",
        "print(\" \")\n",
        "print(\"1. MAD for Train data with is \"+str(median_absolute_error(y_train,y_pred_train)))\n",
        "print(\"2. MAD for cv data is \"+str(median_absolute_error(y_cv,y_pred_cv)))\n",
        "print(\" \")\n",
        "print(\"\\033[1m\"+\"Points to remember:\"+'\\033[0m')\n",
        "print(\" \")\n",
        "print(\"1. We can clearly see how the MAD Increased in train data and cv data.\")\n",
        "print(\" \")\n",
        "print(\"2. This shows that our model cannot fit the line on this data as this is in someother form.\")\n",
        "print(\" \")\n",
        "print(\"3. This model is Worse than the MEAN model\")"
      ],
      "execution_count": null,
      "outputs": [
        {
          "output_type": "stream",
          "text": [
            "\u001b[1mResult after predicting with Linear Regression:\u001b[0m\n",
            " \n",
            "1. MAD for Train data with is 8837.407369816803\n",
            "2. MAD for cv data is 8794.263896869319\n",
            " \n",
            "\u001b[1mPoints to remember:\u001b[0m\n",
            " \n",
            "1. We can clearly see how the MAD Increased in train data and cv data.\n",
            " \n",
            "2. This shows that our model cannot fit the line on this data as this is in someother form.\n",
            " \n",
            "3. This model is Worse than the MEAN model\n"
          ],
          "name": "stdout"
        }
      ]
    },
    {
      "cell_type": "code",
      "metadata": {
        "colab": {
          "base_uri": "https://localhost:8080/"
        },
        "cellView": "form",
        "id": "xC9FOOhqUUaM",
        "outputId": "b63723c0-b6e8-4191-e4a9-316b1b907cad"
      },
      "source": [
        "#@title\n",
        "{\n",
        "    \"tags\": [\n",
        "        \"hide_input\",\n",
        "    ]\n",
        "}\n",
        "from prettytable import PrettyTable\n",
        "\n",
        "# The Score is Median Absolute Deviation (MAD)\n",
        "print(\"\\033[1m\"+\"The Score we are using is Median Absolute Deviation:\"+'\\033[0m')\n",
        "print(\" \")\n",
        "myTable = PrettyTable([\"Model\", \"Train - Before Tuning\",\"CV - Before Tuning\",\"Train - After Tuning\",\"CV - After Tuning\"])\n",
        "  \n",
        "# Add rows\n",
        "\n",
        "myTable.add_row([\"Simple Mean Model\", \"3428\", \"3382\", \"-\", \"-\"])\n",
        "myTable.add_row([\"KNN\", \"827\", \"1018\", \"863\", \"980\"])\n",
        "myTable.add_row([\"Linear Regression\", \"8737\", \"8894\", \"-\", \"-\"])\n",
        "  \n",
        "print(myTable)"
      ],
      "execution_count": null,
      "outputs": [
        {
          "output_type": "stream",
          "text": [
            "\u001b[1mThe Score we are using is Median Absolute Deviation:\u001b[0m\n",
            " \n",
            "+-------------------+-----------------------+--------------------+----------------------+-------------------+\n",
            "|       Model       | Train - Before Tuning | CV - Before Tuning | Train - After Tuning | CV - After Tuning |\n",
            "+-------------------+-----------------------+--------------------+----------------------+-------------------+\n",
            "| Simple Mean Model |          3428         |        3382        |          -           |         -         |\n",
            "|        KNN        |          827          |        1018        |         863          |        980        |\n",
            "| Linear Regression |          8737         |        8894        |          -           |         -         |\n",
            "+-------------------+-----------------------+--------------------+----------------------+-------------------+\n"
          ],
          "name": "stdout"
        }
      ]
    },
    {
      "cell_type": "markdown",
      "metadata": {
        "id": "IDp_H92xWFiO"
      },
      "source": [
        "##### **Modeling Using SVM**"
      ]
    },
    {
      "cell_type": "code",
      "metadata": {
        "id": "5_fgFXgzC7os"
      },
      "source": [
        "from sklearn.svm import SVR\n",
        "\n",
        "\n",
        "model=SVR()\n",
        "model.fit(X_train,y_train)\n",
        "\n",
        "y_pred_train=model.predict(X_train)\n",
        "y_pred_cv=model.predict(X_cv)"
      ],
      "execution_count": null,
      "outputs": []
    },
    {
      "cell_type": "code",
      "metadata": {
        "colab": {
          "base_uri": "https://localhost:8080/"
        },
        "id": "ao1-zO-YDNbG",
        "outputId": "4096b38f-5010-4e8c-c96b-c1df9c858e7e"
      },
      "source": [
        "print(\"Train R-squared score \" + str(best_model.score(X_train,y_train)))\n",
        "print(\"CV R-squared score \" + str(best_model.score(X_cv,y_cv)))"
      ],
      "execution_count": null,
      "outputs": [
        {
          "output_type": "stream",
          "text": [
            "Train R-squared score -3.5470043136316196\n",
            "CV R-squared score -3.715406702347731\n"
          ],
          "name": "stdout"
        }
      ]
    },
    {
      "cell_type": "code",
      "metadata": {
        "colab": {
          "base_uri": "https://localhost:8080/"
        },
        "id": "BP0Hcu1BDN9c",
        "outputId": "9dd862de-cbaf-4ae6-c1cb-f0b2b30ae3a8"
      },
      "source": [
        "#Results of Tuned model on Train,cv data using MAD metric\n",
        "print(\"\\033[1m\"+\"Result after predicting with Linear Regression:\"+'\\033[0m')\n",
        "print(\" \")\n",
        "print(\"1. MAD for Train data with is \"+str(median_absolute_error(y_train,y_pred_train)))\n",
        "print(\"2. MAD for cv data is \"+str(median_absolute_error(y_cv,y_pred_cv)))\n",
        "print(\" \")\n",
        "print(\"\\033[1m\"+\"Points to remember:\"+'\\033[0m')\n",
        "print(\" \")\n",
        "print(\"1.We can clearly see how the MAD decreased in train data and cv data when compared to Linear Regression model.\")\n",
        "print(\" \")\n",
        "print(\"2. This model is approximate equal to our mean model.\")\n",
        "print(\" \")\n",
        "print(\"3.  It is worse compared to knn.\")"
      ],
      "execution_count": null,
      "outputs": [
        {
          "output_type": "stream",
          "text": [
            "\u001b[1mResult after predicting with Linear Regression:\u001b[0m\n",
            " \n",
            "1. MAD for Train data with is 3100.632642133235\n",
            "2. MAD for cv data is 3145.9855407299674\n",
            " \n",
            "\u001b[1mPoints to remember:\u001b[0m\n",
            " \n",
            "1.We can clearly see how the MAD decreased in train data and cv data when compared to Linear Regression model.\n",
            " \n",
            "2. This model is approximate equal to our mean model.\n",
            " \n",
            "3.  It is worse compared to knn.\n"
          ],
          "name": "stdout"
        }
      ]
    },
    {
      "cell_type": "markdown",
      "metadata": {
        "id": "2puHeX6xDoMy"
      },
      "source": [
        "**Result after predicting with SVM without tuning:**\n",
        " \n",
        "**1.** MAD for Train data with is 3100.632642133235\n",
        "\n",
        "**2.** MAD for cv data is 3145.9855407299674\n",
        " \n",
        "**Points to remember:**\n",
        " \n",
        "**1.** We can clearly see how the MAD decreased in train data and cv data when compared to Linear Regression model.\n",
        " \n",
        "**2.** This model is approximate equal to our mean model.\n",
        " \n",
        "**3.** It is worse compared to knn."
      ]
    },
    {
      "cell_type": "code",
      "metadata": {
        "colab": {
          "base_uri": "https://localhost:8080/"
        },
        "id": "bJQw_eycUwBx",
        "outputId": "fd3e489c-38f2-4746-91ed-a56c77cb2a78"
      },
      "source": [
        "from sklearn.model_selection import RandomizedSearchCV\n",
        "\n",
        "\n",
        "params={\n",
        "    'kernel':['linear', 'poly', 'rbf', 'sigmoid'],\n",
        "    'C':[0.0001,0.001,0.01,0.1,1,100,1000],\n",
        "    'gamma':['scale', 'auto']\n",
        "    \n",
        "}\n",
        "\n",
        "model=SVR()\n",
        "\n",
        "model_tuned=RandomizedSearchCV(model,params,verbose=0)\n",
        "model_tuned.fit(X_train,y_train)\n",
        "\n",
        "model_tuned.best_estimator_"
      ],
      "execution_count": null,
      "outputs": [
        {
          "output_type": "execute_result",
          "data": {
            "text/plain": [
              "SVR(C=1000, cache_size=200, coef0=0.0, degree=3, epsilon=0.1, gamma='scale',\n",
              "    kernel='rbf', max_iter=-1, shrinking=True, tol=0.001, verbose=False)"
            ]
          },
          "metadata": {
            "tags": []
          },
          "execution_count": 29
        }
      ]
    },
    {
      "cell_type": "markdown",
      "metadata": {
        "id": "8LEKEQUJGz11"
      },
      "source": [
        "SVR(C=1000, cache_size=200, coef0=0.0, degree=3, epsilon=0.1, gamma='scale',\n",
        "    kernel='rbf', max_iter=-1, shrinking=True, tol=0.001, verbose=False)"
      ]
    },
    {
      "cell_type": "code",
      "metadata": {
        "id": "rH3It9NLCJg8"
      },
      "source": [
        "# Predicting the X_train,X_cv using tuned model\n",
        "best_model=model_tuned.best_estimator_\n",
        "y_pred_train=best_model.predict(X_train)\n",
        "y_pred_cv=best_model.predict(X_cv)"
      ],
      "execution_count": null,
      "outputs": []
    },
    {
      "cell_type": "code",
      "metadata": {
        "colab": {
          "base_uri": "https://localhost:8080/"
        },
        "id": "GAgL1HpsCMgu",
        "outputId": "1eb8e5c3-b0b9-4f13-affe-0c55a2f2ec14"
      },
      "source": [
        "print(\"Train R-squared score \" + str(best_model.score(X_train,y_train)))\n",
        "print(\"CV R-squared score \" + str(best_model.score(X_cv,y_cv)))"
      ],
      "execution_count": null,
      "outputs": [
        {
          "output_type": "stream",
          "text": [
            "Train R-squared score 0.6791293707669455\n",
            "CV R-squared score 0.7176651603159018\n"
          ],
          "name": "stdout"
        }
      ]
    },
    {
      "cell_type": "code",
      "metadata": {
        "colab": {
          "base_uri": "https://localhost:8080/"
        },
        "id": "f9CfIKOlCMqX",
        "outputId": "a2c5e9f2-a7d2-4bc3-a604-935f7ab04505"
      },
      "source": [
        "#Results of Tuned model on Train,cv data using MAD metric\n",
        "print(\"\\033[1m\"+\"Result after predicting with SVM after Tuning:\"+'\\033[0m')\n",
        "print(\" \")\n",
        "print(\"1. MAD for Train data with is \"+str(median_absolute_error(y_train,y_pred_train)))\n",
        "print(\"2. MAD for cv data is \"+str(median_absolute_error(y_cv,y_pred_cv)))\n",
        "print(\" \")\n",
        "print(\"\\033[1m\"+\"Points to remember:\"+'\\033[0m')\n",
        "print(\" \")\n",
        "print(\"1. We can clearly see how the MAD Decreased in train data and cv data after tuning\")\n",
        "print(\" \")\n",
        "print(\"2. This model is also as good as KNN as both are getting nearly same results\")\n",
        "print(\" \")"
      ],
      "execution_count": null,
      "outputs": [
        {
          "output_type": "stream",
          "text": [
            "\u001b[1mResult after predicting with SVM after Tuning:\u001b[0m\n",
            " \n",
            "1. MAD for Train data with is 943.7013489559304\n",
            "2. MAD for cv data is 928.0383362384764\n",
            " \n",
            "\u001b[1mPoints to remember:\u001b[0m\n",
            " \n",
            "1. We can clearly see how the MAD Decreased in train data and cv data after tuning\n",
            " \n",
            "2. This model is also as good as KNN as both are getting nearly same results\n",
            " \n"
          ],
          "name": "stdout"
        }
      ]
    },
    {
      "cell_type": "code",
      "metadata": {
        "colab": {
          "base_uri": "https://localhost:8080/"
        },
        "id": "VmEDn06uCrNi",
        "cellView": "form",
        "outputId": "603bb57c-6dd1-40cc-823a-ebf9481d7b3b"
      },
      "source": [
        "#@title\n",
        "{\n",
        "    \"tags\": [\n",
        "        \"hide_input\",\n",
        "    ]\n",
        "}\n",
        "from prettytable import PrettyTable\n",
        "\n",
        "# The Score is Median Absolute Deviation (MAD)\n",
        "print(\"\\033[1m\"+\"The Score we are using is Median Absolute Deviation:\"+'\\033[0m')\n",
        "print(\" \")\n",
        "myTable = PrettyTable([\"Model\", \"Train - Before Tuning\",\"CV - Before Tuning\",\"Train - After Tuning\",\"CV - After Tuning\"])\n",
        "  \n",
        "# Add rows\n",
        "\n",
        "myTable.add_row([\"Simple Mean Model\", \"3428\", \"3382\", \"-\", \"-\"])\n",
        "myTable.add_row([\"KNN\", \"827\", \"1018\", \"863\", \"980\"])\n",
        "myTable.add_row([\"Linear Regression\", \"8737\", \"8894\", \"-\", \"-\"])\n",
        "myTable.add_row([\"SVM\", \"3100\", \"3145\", \"942\", \"928\"])  \n",
        "print(myTable)"
      ],
      "execution_count": null,
      "outputs": [
        {
          "output_type": "stream",
          "text": [
            "\u001b[1mThe Score we are using is Median Absolute Deviation:\u001b[0m\n",
            " \n",
            "+-------------------+-----------------------+--------------------+----------------------+-------------------+\n",
            "|       Model       | Train - Before Tuning | CV - Before Tuning | Train - After Tuning | CV - After Tuning |\n",
            "+-------------------+-----------------------+--------------------+----------------------+-------------------+\n",
            "| Simple Mean Model |          3428         |        3382        |          -           |         -         |\n",
            "|        KNN        |          827          |        1018        |         863          |        980        |\n",
            "| Linear Regression |          8737         |        8894        |          -           |         -         |\n",
            "|        SVM        |          3100         |        3145        |         942          |        928        |\n",
            "+-------------------+-----------------------+--------------------+----------------------+-------------------+\n"
          ],
          "name": "stdout"
        }
      ]
    },
    {
      "cell_type": "markdown",
      "metadata": {
        "id": "oq_9Tck2FdiG"
      },
      "source": [
        "##### **Modeling Using Decision Trees**"
      ]
    },
    {
      "cell_type": "code",
      "metadata": {
        "id": "w8e0wpryFcZj"
      },
      "source": [
        "from sklearn.tree import DecisionTreeRegressor\n",
        "\n",
        "\n",
        "regressor=DecisionTreeRegressor()\n",
        "\n",
        "regressor.fit(X_train,y_train)\n",
        "\n",
        "y_pred_train=regressor.predict(X_train)\n",
        "y_pred_cv=regressor.predict(X_cv)"
      ],
      "execution_count": null,
      "outputs": []
    },
    {
      "cell_type": "code",
      "metadata": {
        "id": "ax7-XJONJHHm",
        "colab": {
          "base_uri": "https://localhost:8080/"
        },
        "outputId": "98f987e7-3487-470f-b0d6-c443f1eb9b0b"
      },
      "source": [
        "print(\"Train R-squared score \" + str(regressor.score(X_train,y_train)))\n",
        "print(\"CV R-squared score \" + str(regressor.score(X_cv,y_cv)))"
      ],
      "execution_count": null,
      "outputs": [
        {
          "output_type": "stream",
          "text": [
            "Train R-squared score 0.9741389709310636\n",
            "CV R-squared score 0.671448767791782\n"
          ],
          "name": "stdout"
        }
      ]
    },
    {
      "cell_type": "code",
      "metadata": {
        "id": "K-LesAgPJHLf",
        "colab": {
          "base_uri": "https://localhost:8080/"
        },
        "outputId": "56338c22-6704-4f85-e3b8-627fa25db956"
      },
      "source": [
        "#Results of Tuned model on Train,cv data using MAD metric\n",
        "from sklearn.metrics import median_absolute_error\n",
        "\n",
        "print(\"\\033[1m\"+\"Result after predicting with Decision Tree:\"+'\\033[0m')\n",
        "print(\" \")\n",
        "print(\"1. MAD for Train data with is \"+str(median_absolute_error(y_train,y_pred_train)))\n",
        "print(\"2. MAD for cv data is \"+str(median_absolute_error(y_cv,y_pred_cv)))\n",
        "print(\" \")\n",
        "print(\"\\033[1m\"+\"Points to remember:\"+'\\033[0m')\n",
        "print(\" \")\n",
        "print(\"1. We can clearly see how the MAD decreased in train data and cv data when compared to previous model.\")\n",
        "print(\" \")\n",
        "print(\"2. We can also see that our train MAD is 0.0 and cv MAD is 525, but this is the case of overfitting.\")\n",
        "print(\" \")\n",
        "print(\"3. This model is working brilliant, but if we can make it not to overfit, then this can be the best model for our problem\")"
      ],
      "execution_count": null,
      "outputs": [
        {
          "output_type": "stream",
          "text": [
            "\u001b[1mResult after predicting with Decision Tree:\u001b[0m\n",
            " \n",
            "1. MAD for Train data with is 0.0\n",
            "2. MAD for cv data is 525.0\n",
            " \n",
            "\u001b[1mPoints to remember:\u001b[0m\n",
            " \n",
            "1. We can clearly see how the MAD decreased in train data and cv data when compared to previous model.\n",
            " \n",
            "2. We can also see that our train MAD is 0.0 and cv MAD is 525, but this is the case of overfitting.\n",
            " \n",
            "3. This model is working brilliant, but if we can make it not to overfit, then this can be the best model for our problem\n"
          ],
          "name": "stdout"
        }
      ]
    },
    {
      "cell_type": "markdown",
      "metadata": {
        "id": "l1AisFhFgWeC"
      },
      "source": [
        "**Result after predicting with Decision Tree Before Tuning:**\n",
        " \n",
        "**1.** MAD for Train data with is 0.0\n",
        "**2.** MAD for cv data is 525.0\n",
        " \n",
        "**Points to remember:**\n",
        " \n",
        "**1.** We can clearly see how the MAD decreased in train data and cv data when compared to previous model.\n",
        " \n",
        "**2.** We can also see that our train MAD is 0.0 and cv MAD is 525, but this is the case of overfitting.\n",
        " \n",
        "**3.** This model is working brilliant, but if we can make it not to overfit, then this can be the best model for our problem"
      ]
    },
    {
      "cell_type": "code",
      "metadata": {
        "id": "u6kchwF3JHOp",
        "colab": {
          "base_uri": "https://localhost:8080/"
        },
        "outputId": "c2b205ff-35a2-477a-8dad-856547b2fde6"
      },
      "source": [
        "from sklearn.model_selection import RandomizedSearchCV\n",
        "\n",
        "\n",
        "params={\n",
        "    'max_depth':[i for i in range(10,25,3)],\n",
        "    'max_features':['auto','sqrt','log2']\n",
        "}\n",
        "\n",
        "modell=DecisionTreeRegressor(random_state=98)\n",
        "\n",
        "modell_tuned=RandomizedSearchCV(modell,params,verbose=0)\n",
        "modell_tuned.fit(X_train,y_train)\n",
        "\n",
        "modell_tuned.best_estimator_"
      ],
      "execution_count": null,
      "outputs": [
        {
          "output_type": "execute_result",
          "data": {
            "text/plain": [
              "DecisionTreeRegressor(ccp_alpha=0.0, criterion='mse', max_depth=10,\n",
              "                      max_features='auto', max_leaf_nodes=None,\n",
              "                      min_impurity_decrease=0.0, min_impurity_split=None,\n",
              "                      min_samples_leaf=1, min_samples_split=2,\n",
              "                      min_weight_fraction_leaf=0.0, presort='deprecated',\n",
              "                      random_state=98, splitter='best')"
            ]
          },
          "metadata": {
            "tags": []
          },
          "execution_count": 17
        }
      ]
    },
    {
      "cell_type": "markdown",
      "metadata": {
        "id": "NPK2xvRqjIRx"
      },
      "source": [
        "DecisionTreeRegressor(ccp_alpha=0.0, criterion='mse', max_depth=10,\n",
        "                      max_features='auto', max_leaf_nodes=None,\n",
        "                      min_impurity_decrease=0.0, min_impurity_split=None,\n",
        "                      min_samples_leaf=1, min_samples_split=2,\n",
        "                      min_weight_fraction_leaf=0.0, presort='deprecated',\n",
        "                      random_state=98, splitter='best')"
      ]
    },
    {
      "cell_type": "code",
      "metadata": {
        "id": "h8yvZcGgFcc3"
      },
      "source": [
        "# Predicting the X_train,X_cv using tuned model\n",
        "best_modell=modell_tuned.best_estimator_\n",
        "y_pred_train=best_modell.predict(X_train)\n",
        "y_pred_cv=best_modell.predict(X_cv)"
      ],
      "execution_count": null,
      "outputs": []
    },
    {
      "cell_type": "code",
      "metadata": {
        "colab": {
          "base_uri": "https://localhost:8080/"
        },
        "id": "HOJP9OFhjOK_",
        "outputId": "55d56b0d-4d1e-43be-8625-b03345c1e3da"
      },
      "source": [
        "print(\"Train R-squared score \" + str(best_modell.score(X_train,y_train)))\n",
        "print(\"CV R-squared score \" + str(best_modell.score(X_cv,y_cv)))"
      ],
      "execution_count": null,
      "outputs": [
        {
          "output_type": "stream",
          "text": [
            "Train R-squared score 0.8782375630218433\n",
            "CV R-squared score 0.7431782400392699\n"
          ],
          "name": "stdout"
        }
      ]
    },
    {
      "cell_type": "code",
      "metadata": {
        "colab": {
          "base_uri": "https://localhost:8080/"
        },
        "id": "CwIL70pFjOa1",
        "outputId": "29c668d6-e739-4d7d-eeb1-ebbb297bb2ad"
      },
      "source": [
        "#Results of Tuned model on Train,cv data using MAD metric\n",
        "from sklearn.metrics import median_absolute_error\n",
        "\n",
        "print(\"\\033[1m\"+\"Result after predicting with Linear Regression:\"+'\\033[0m')\n",
        "print(\" \")\n",
        "print(\"1. MAD for Train data with is \"+str(median_absolute_error(y_train,y_pred_train)))\n",
        "print(\"2. MAD for cv data is \"+str(median_absolute_error(y_cv,y_pred_cv)))\n",
        "print(\" \")\n",
        "print(\"\\033[1m\"+\"Points to remember:\"+'\\033[0m')\n",
        "print(\" \")\n",
        "print(\"1. We can clearly see how the MAD decreased in train data and cv data when compared to previous model.\")\n",
        "print(\" \")\n",
        "print(\"2. We can also see that our train MAD is good now, compared to DT without Tuning.\")\n",
        "print(\" \")\n",
        "print(\"3. As, we have seen that we are overfitting, let's try some other methods to get rid of Overfitting.\")"
      ],
      "execution_count": null,
      "outputs": [
        {
          "output_type": "stream",
          "text": [
            "\u001b[1mResult after predicting with Linear Regression:\u001b[0m\n",
            " \n",
            "1. MAD for Train data with is 719.2711864406774\n",
            "2. MAD for cv data is 900.0\n",
            " \n",
            "\u001b[1mPoints to remember:\u001b[0m\n",
            " \n",
            "1. We can clearly see how the MAD decreased in train data and cv data when compared to previous model.\n",
            " \n",
            "2. We can also see that our train MAD is good now, compared to DT without Tuning.\n",
            " \n",
            "3. As, we have seen that we are overfitting, let's try some other methods to get rid of Overfitting.\n"
          ],
          "name": "stdout"
        }
      ]
    },
    {
      "cell_type": "code",
      "metadata": {
        "colab": {
          "base_uri": "https://localhost:8080/"
        },
        "id": "V6RSB7t4jOjH",
        "cellView": "form",
        "outputId": "22fc138e-a934-44f1-85f5-c21b50396187"
      },
      "source": [
        "#@title\n",
        "{\n",
        "    \"tags\": [\n",
        "        \"hide_input\",\n",
        "    ]\n",
        "}\n",
        "from prettytable import PrettyTable\n",
        "\n",
        "# The Score is Median Absolute Deviation (MAD)\n",
        "print(\"\\033[1m\"+\"The Score we are using is Median Absolute Deviation:\"+'\\033[0m')\n",
        "print(\" \")\n",
        "myTable = PrettyTable([\"Model\", \"Train - Before Tuning\",\"CV - Before Tuning\",\"Train - After Tuning\",\"CV - After Tuning\"])\n",
        "  \n",
        "# Add rows\n",
        "\n",
        "myTable.add_row([\"Simple Mean Model\", \"3428\", \"3382\", \"-\", \"-\"])\n",
        "myTable.add_row([\"KNN\", \"827\", \"1018\", \"863\", \"980\"])\n",
        "myTable.add_row([\"Linear Regression\", \"8737\", \"8894\", \"-\", \"-\"])\n",
        "myTable.add_row([\"SVM\", \"3100\", \"3145\", \"942\", \"928\"])\n",
        "myTable.add_row([\"Decision Tree\", \"0\", \"525\", \"719\", \"900\"])    \n",
        "print(myTable)"
      ],
      "execution_count": null,
      "outputs": [
        {
          "output_type": "stream",
          "text": [
            "\u001b[1mThe Score we are using is Median Absolute Deviation:\u001b[0m\n",
            " \n",
            "+-------------------+-----------------------+--------------------+----------------------+-------------------+\n",
            "|       Model       | Train - Before Tuning | CV - Before Tuning | Train - After Tuning | CV - After Tuning |\n",
            "+-------------------+-----------------------+--------------------+----------------------+-------------------+\n",
            "| Simple Mean Model |          3428         |        3382        |          -           |         -         |\n",
            "|        KNN        |          827          |        1018        |         863          |        980        |\n",
            "| Linear Regression |          8737         |        8894        |          -           |         -         |\n",
            "|        SVM        |          3100         |        3145        |         942          |        928        |\n",
            "|   Decision Tree   |           0           |        525         |         719          |        900        |\n",
            "+-------------------+-----------------------+--------------------+----------------------+-------------------+\n"
          ],
          "name": "stdout"
        }
      ]
    },
    {
      "cell_type": "markdown",
      "metadata": {
        "id": "gMaf3ZEFlIJH"
      },
      "source": [
        "##### **Modeling using Random Forests**"
      ]
    },
    {
      "cell_type": "code",
      "metadata": {
        "id": "BvEVePEIjOqC"
      },
      "source": [
        "from sklearn.ensemble import RandomForestRegressor\n",
        "\n",
        "\n",
        "model=RandomForestRegressor()\n",
        "\n",
        "model.fit(X_train,y_train)\n",
        "\n",
        "y_pred_train=model.predict(X_train)\n",
        "\n",
        "y_pred_cv=model.predict(X_cv)"
      ],
      "execution_count": null,
      "outputs": []
    },
    {
      "cell_type": "code",
      "metadata": {
        "colab": {
          "base_uri": "https://localhost:8080/"
        },
        "id": "O1_SUCFYjOvq",
        "outputId": "ca343ceb-bd27-4372-e97d-26cb67a9710c"
      },
      "source": [
        "print(\"Train R-squared score \" + str(model.score(X_train,y_train)))\n",
        "print(\"CV R-squared score \" + str(model.score(X_cv,y_cv)))"
      ],
      "execution_count": null,
      "outputs": [
        {
          "output_type": "stream",
          "text": [
            "Train R-squared score 0.9563872173199623\n",
            "CV R-squared score 0.8093816990870687\n"
          ],
          "name": "stdout"
        }
      ]
    },
    {
      "cell_type": "code",
      "metadata": {
        "id": "DEFz_i0smOfF",
        "colab": {
          "base_uri": "https://localhost:8080/"
        },
        "outputId": "3efe726c-4b3f-46c5-9e63-097140f58a00"
      },
      "source": [
        "#Results of Tuned model on Train,cv data using MAD metric\n",
        "from sklearn.metrics import median_absolute_error\n",
        "\n",
        "print(\"\\033[1m\"+\"Result after predicting with Linear Regression:\"+'\\033[0m')\n",
        "print(\" \")\n",
        "print(\"1. MAD for Train data with is \"+str(median_absolute_error(y_train,y_pred_train)))\n",
        "print(\"2. MAD for cv data is \"+str(median_absolute_error(y_cv,y_pred_cv)))\n",
        "print(\" \")\n",
        "print(\"\\033[1m\"+\"Points to remember:\"+'\\033[0m')\n",
        "print(\" \")\n",
        "print(\"1. We can clearly see how the MAD increased compared to DT in train data and cv data, we are having this but it is not too bad.\")"
      ],
      "execution_count": null,
      "outputs": [
        {
          "output_type": "stream",
          "text": [
            "\u001b[1mResult after predicting with Linear Regression:\u001b[0m\n",
            " \n",
            "1. MAD for Train data with is 247.8050000000003\n",
            "2. MAD for cv data is 623.0152499999999\n",
            " \n",
            "\u001b[1mPoints to remember:\u001b[0m\n",
            " \n",
            "1. We can clearly see how the MAD increased compared to DT in train data and cv data, we are having this but it is not too bad.\n"
          ],
          "name": "stdout"
        }
      ]
    },
    {
      "cell_type": "code",
      "metadata": {
        "colab": {
          "base_uri": "https://localhost:8080/"
        },
        "id": "NN57HtP4mOjP",
        "outputId": "9c3be028-ab9e-46df-8198-40273709dec5"
      },
      "source": [
        "from sklearn.model_selection import RandomizedSearchCV\n",
        "\n",
        "\n",
        "params={\n",
        "    'n_estimators':[i for i in range(1,100,10)],\n",
        "    'max_features':['auto','sqrt','log2'],\n",
        "    'bootstrap':[True,False]\n",
        "}\n",
        "\n",
        "model=RandomForestRegressor(random_state=98)\n",
        "\n",
        "model_tuned=RandomizedSearchCV(model,params,verbose=0)\n",
        "model_tuned.fit(X_train,y_train)\n",
        "\n",
        "model_tuned.best_estimator_"
      ],
      "execution_count": null,
      "outputs": [
        {
          "output_type": "execute_result",
          "data": {
            "text/plain": [
              "RandomForestRegressor(bootstrap=True, ccp_alpha=0.0, criterion='mse',\n",
              "                      max_depth=None, max_features='auto', max_leaf_nodes=None,\n",
              "                      max_samples=None, min_impurity_decrease=0.0,\n",
              "                      min_impurity_split=None, min_samples_leaf=1,\n",
              "                      min_samples_split=2, min_weight_fraction_leaf=0.0,\n",
              "                      n_estimators=71, n_jobs=None, oob_score=False,\n",
              "                      random_state=98, verbose=0, warm_start=False)"
            ]
          },
          "metadata": {
            "tags": []
          },
          "execution_count": 104
        }
      ]
    },
    {
      "cell_type": "code",
      "metadata": {
        "id": "wOLngIj6mOnY"
      },
      "source": [
        "best_model=model_tuned.best_estimator_\n",
        "y_pred_train=best_model.predict(X_train)\n",
        "y_pred_cv=best_model.predict(X_cv)"
      ],
      "execution_count": null,
      "outputs": []
    },
    {
      "cell_type": "code",
      "metadata": {
        "colab": {
          "base_uri": "https://localhost:8080/"
        },
        "id": "O2qwahv2mOrV",
        "outputId": "a693974f-ec9b-4189-df2a-bb8ed13d2e2a"
      },
      "source": [
        "print(\"Train R-squared score \" + str(best_model.score(X_train,y_train)))\n",
        "print(\"CV R-squared score \" + str(best_model.score(X_cv,y_cv)))"
      ],
      "execution_count": null,
      "outputs": [
        {
          "output_type": "stream",
          "text": [
            "Train R-squared score 0.9555151276494022\n",
            "CV R-squared score 0.8104377016721097\n"
          ],
          "name": "stdout"
        }
      ]
    },
    {
      "cell_type": "code",
      "metadata": {
        "id": "sQHwxsZImOvB",
        "colab": {
          "base_uri": "https://localhost:8080/"
        },
        "outputId": "847a4ada-c3fa-4a3f-eee9-49c67c0622b3"
      },
      "source": [
        "#Results of Tuned model on Train,cv data using MAD metric\n",
        "from sklearn.metrics import median_absolute_error\n",
        "\n",
        "print(\"\\033[1m\"+\"Result after predicting with Random Forest after Tuning:\"+'\\033[0m')\n",
        "print(\" \")\n",
        "print(\"1. MAD for Train data with is \"+str(median_absolute_error(y_train,y_pred_train)))\n",
        "print(\"2. MAD for cv data is \"+str(median_absolute_error(y_cv,y_pred_cv)))\n",
        "print(\" \")\n",
        "print(\"\\033[1m\"+\"Points to remember:\"+'\\033[0m')\n",
        "print(\" \")\n",
        "print(\"1. This model is same as the model before tuning\")\n",
        "print(\" \")\n",
        "print(\"1. One good thing is that we got rid of overfitting problem that was in DT\")\n"
      ],
      "execution_count": null,
      "outputs": [
        {
          "output_type": "stream",
          "text": [
            "\u001b[1mResult after predicting with Random Forest after Tuning:\u001b[0m\n",
            " \n",
            "1. MAD for Train data with is 247.00234741784084\n",
            "2. MAD for cv data is 616.8443661971833\n",
            " \n",
            "\u001b[1mPoints to remember:\u001b[0m\n",
            " \n",
            "1. This model is same as the model before tuning\n",
            " \n",
            "1. One good thing is that we got rid of overfitting problem that was in DT\n"
          ],
          "name": "stdout"
        }
      ]
    },
    {
      "cell_type": "code",
      "metadata": {
        "colab": {
          "base_uri": "https://localhost:8080/"
        },
        "cellView": "form",
        "id": "Dc18ixwRCF9I",
        "outputId": "492aa654-182b-4099-a36d-e517ca0ca7e1"
      },
      "source": [
        "#@title\n",
        "{\n",
        "    \"tags\": [\n",
        "        \"hide_input\",\n",
        "    ]\n",
        "}\n",
        "from prettytable import PrettyTable\n",
        "\n",
        "# The Score is Median Absolute Deviation (MAD)\n",
        "print(\"\\033[1m\"+\"The Score we are using is Median Absolute Deviation:\"+'\\033[0m')\n",
        "print(\" \")\n",
        "myTable = PrettyTable([\"Model\", \"Train - Before Tuning\",\"CV - Before Tuning\",\"Train - After Tuning\",\"CV - After Tuning\"])\n",
        "  \n",
        "# Add rows\n",
        "\n",
        "myTable.add_row([\"Simple Mean Model\", \"3428\", \"3382\", \"-\", \"-\"])\n",
        "myTable.add_row([\"KNN\", \"827\", \"1018\", \"863\", \"980\"])\n",
        "myTable.add_row([\"Linear Regression\", \"8737\", \"8894\", \"-\", \"-\"])\n",
        "myTable.add_row([\"SVM\", \"3100\", \"3145\", \"942\", \"928\"])\n",
        "myTable.add_row([\"Decision Tree\", \"0\", \"525\", \"719\", \"900\"])\n",
        "myTable.add_row([\"RandomForest\", \"247\", \"623\", \"247\", \"616\"])   \n",
        "print(myTable)"
      ],
      "execution_count": null,
      "outputs": [
        {
          "output_type": "stream",
          "text": [
            "\u001b[1mThe Score we are using is Median Absolute Deviation:\u001b[0m\n",
            " \n",
            "+-------------------+-----------------------+--------------------+----------------------+-------------------+\n",
            "|       Model       | Train - Before Tuning | CV - Before Tuning | Train - After Tuning | CV - After Tuning |\n",
            "+-------------------+-----------------------+--------------------+----------------------+-------------------+\n",
            "| Simple Mean Model |          3428         |        3382        |          -           |         -         |\n",
            "|        KNN        |          827          |        1018        |         863          |        980        |\n",
            "| Linear Regression |          8737         |        8894        |          -           |         -         |\n",
            "|        SVM        |          3100         |        3145        |         942          |        928        |\n",
            "|   Decision Tree   |           0           |        525         |         719          |        900        |\n",
            "|    RandomForest   |          247          |        623         |         247          |        616        |\n",
            "+-------------------+-----------------------+--------------------+----------------------+-------------------+\n"
          ],
          "name": "stdout"
        }
      ]
    },
    {
      "cell_type": "markdown",
      "metadata": {
        "id": "SjdguDHlVotQ"
      },
      "source": [
        "#### **Implementing Simple ANN**"
      ]
    },
    {
      "cell_type": "code",
      "metadata": {
        "id": "wiEc1-X05wb8"
      },
      "source": [
        "from keras.models import Sequential\n",
        "from keras.layers import Dense\n",
        "from keras.layers import Dropout, BatchNormalization"
      ],
      "execution_count": 3,
      "outputs": []
    },
    {
      "cell_type": "code",
      "metadata": {
        "id": "9_fl3FOwU74z",
        "colab": {
          "base_uri": "https://localhost:8080/",
          "height": 235
        },
        "outputId": "65caa5f4-40b8-4f41-f517-21b5d648c515"
      },
      "source": [
        "model = Sequential()\n",
        "opt=Adam(learning_rate=0.01)\n",
        "model.add(Dense(256,input_dim=30,activation='relu'))\n",
        "model.add(Dense(128,activation='relu'))\n",
        "model.add(Dense(64,activation='relu'))\n",
        "model.add(Dense(32,activation='relu'))\n",
        "model.add(Dense(16,activation='relu'))\n",
        "model.add(Dense(8,activation='relu'))\n",
        "model.add(Dense(1,activation='linear'))\n",
        "\n",
        "model.summary()\n",
        "\n",
        "\n",
        "model.compile(optimizer=opt, loss='MeanAbsolutePercentageError', metrics= ['MeanAbsoluteError','MeanAbsolutePercentageError'])\n",
        "\n",
        "\n",
        "history=model.fit(X_train,y_train,validation_data=(X_cv,y_cv),epochs=100,batch_size=50)"
      ],
      "execution_count": 2,
      "outputs": [
        {
          "output_type": "error",
          "ename": "NameError",
          "evalue": "ignored",
          "traceback": [
            "\u001b[0;31m---------------------------------------------------------------------------\u001b[0m",
            "\u001b[0;31mNameError\u001b[0m                                 Traceback (most recent call last)",
            "\u001b[0;32m<ipython-input-2-f193edc727c2>\u001b[0m in \u001b[0;36m<module>\u001b[0;34m()\u001b[0m\n\u001b[0;32m----> 1\u001b[0;31m \u001b[0mmodel\u001b[0m \u001b[0;34m=\u001b[0m \u001b[0mSequential\u001b[0m\u001b[0;34m(\u001b[0m\u001b[0;34m)\u001b[0m\u001b[0;34m\u001b[0m\u001b[0;34m\u001b[0m\u001b[0m\n\u001b[0m\u001b[1;32m      2\u001b[0m \u001b[0mopt\u001b[0m\u001b[0;34m=\u001b[0m\u001b[0mAdam\u001b[0m\u001b[0;34m(\u001b[0m\u001b[0mlearning_rate\u001b[0m\u001b[0;34m=\u001b[0m\u001b[0;36m0.01\u001b[0m\u001b[0;34m)\u001b[0m\u001b[0;34m\u001b[0m\u001b[0;34m\u001b[0m\u001b[0m\n\u001b[1;32m      3\u001b[0m \u001b[0mmodel\u001b[0m\u001b[0;34m.\u001b[0m\u001b[0madd\u001b[0m\u001b[0;34m(\u001b[0m\u001b[0mDense\u001b[0m\u001b[0;34m(\u001b[0m\u001b[0;36m256\u001b[0m\u001b[0;34m,\u001b[0m\u001b[0minput_dim\u001b[0m\u001b[0;34m=\u001b[0m\u001b[0;36m30\u001b[0m\u001b[0;34m,\u001b[0m\u001b[0mactivation\u001b[0m\u001b[0;34m=\u001b[0m\u001b[0;34m'relu'\u001b[0m\u001b[0;34m)\u001b[0m\u001b[0;34m)\u001b[0m\u001b[0;34m\u001b[0m\u001b[0;34m\u001b[0m\u001b[0m\n\u001b[1;32m      4\u001b[0m \u001b[0mmodel\u001b[0m\u001b[0;34m.\u001b[0m\u001b[0madd\u001b[0m\u001b[0;34m(\u001b[0m\u001b[0mDense\u001b[0m\u001b[0;34m(\u001b[0m\u001b[0;36m128\u001b[0m\u001b[0;34m,\u001b[0m\u001b[0mactivation\u001b[0m\u001b[0;34m=\u001b[0m\u001b[0;34m'relu'\u001b[0m\u001b[0;34m)\u001b[0m\u001b[0;34m)\u001b[0m\u001b[0;34m\u001b[0m\u001b[0;34m\u001b[0m\u001b[0m\n\u001b[1;32m      5\u001b[0m \u001b[0mmodel\u001b[0m\u001b[0;34m.\u001b[0m\u001b[0madd\u001b[0m\u001b[0;34m(\u001b[0m\u001b[0mDense\u001b[0m\u001b[0;34m(\u001b[0m\u001b[0;36m64\u001b[0m\u001b[0;34m,\u001b[0m\u001b[0mactivation\u001b[0m\u001b[0;34m=\u001b[0m\u001b[0;34m'relu'\u001b[0m\u001b[0;34m)\u001b[0m\u001b[0;34m)\u001b[0m\u001b[0;34m\u001b[0m\u001b[0;34m\u001b[0m\u001b[0m\n",
            "\u001b[0;31mNameError\u001b[0m: name 'Sequential' is not defined"
          ]
        }
      ]
    },
    {
      "cell_type": "code",
      "metadata": {
        "colab": {
          "base_uri": "https://localhost:8080/",
          "height": 265
        },
        "id": "gihGp3gWxVfL",
        "outputId": "fb4b3ae2-c929-4435-9295-323e4deda827"
      },
      "source": [
        "import matplotlib.pyplot as plt\n",
        "\n",
        "plt.plot(history.history['mean_absolute_percentage_error'],label='Train loss')\n",
        "plt.plot(history.history['val_mean_absolute_percentage_error'],label='CV loss')\n",
        "plt.legend()\n",
        "plt.show()"
      ],
      "execution_count": null,
      "outputs": [
        {
          "output_type": "display_data",
          "data": {
            "image/png": "[encoded data removed]",
            "text/plain": [
              "<Figure size 432x288 with 1 Axes>"
            ]
          },
          "metadata": {
            "tags": [],
            "needs_background": "light"
          }
        }
      ]
    },
    {
      "cell_type": "code",
      "metadata": {
        "id": "HU_ldHxN-Dx2"
      },
      "source": [
        "y_pred_train=model.predict(X_train)\n",
        "y_pred_cv=model.predict(X_cv)"
      ],
      "execution_count": null,
      "outputs": []
    },
    {
      "cell_type": "code",
      "metadata": {
        "colab": {
          "base_uri": "https://localhost:8080/"
        },
        "id": "s5-GK0nb93q_",
        "outputId": "7594acf7-e3ce-481a-f26d-9b8607491cfd"
      },
      "source": [
        "#Results of Tuned model on Train,cv data using MAD metric\n",
        "from sklearn.metrics import median_absolute_error\n",
        "\n",
        "print(\"\\033[1m\"+\"Result after predicting with ANN:\"+'\\033[0m')\n",
        "print(\" \")\n",
        "print(\"1. MAD for Train data with is \"+str(median_absolute_error(y_train,y_pred_train)))\n",
        "print(\"2. MAD for cv data is \"+str(median_absolute_error(y_cv,y_pred_cv)))\n",
        "print(\" \")\n",
        "print(\"\\033[1m\"+\"Points to remember:\"+'\\033[0m')\n",
        "print(\" \")\n",
        "print(\"1. This model is good compared to Random Forest as we are overfitting to train data and here both Train MAD and Test MAD are balanced\")\n",
        "print(\" \")"
      ],
      "execution_count": null,
      "outputs": [
        {
          "output_type": "stream",
          "text": [
            "\u001b[1mResult after predicting with ANN:\u001b[0m\n",
            " \n",
            "1. MAD for Train data with is 645.3731689453125\n",
            "2. MAD for cv data is 845.571533203125\n",
            " \n",
            "\u001b[1mPoints to remember:\u001b[0m\n",
            " \n",
            "1. This model is good compared to Random Forest as we are overfitting to train data and here both Train MAD and Test MAD are balanced\n",
            " \n"
          ],
          "name": "stdout"
        }
      ]
    },
    {
      "cell_type": "code",
      "metadata": {
        "colab": {
          "base_uri": "https://localhost:8080/"
        },
        "id": "UPV-Al8F93uJ",
        "cellView": "form",
        "outputId": "83935848-769e-4bd6-a044-54b05c081b65"
      },
      "source": [
        "#@title\n",
        "{\n",
        "    \"tags\": [\n",
        "        \"hide_input\",\n",
        "    ]\n",
        "}\n",
        "from prettytable import PrettyTable\n",
        "\n",
        "# The Score is Median Absolute Deviation (MAD)\n",
        "print(\"\\033[1m\"+\"The Score we are using is Median Absolute Deviation:\"+'\\033[0m')\n",
        "print(\" \")\n",
        "myTable = PrettyTable([\"Model\", \"Train - Before Tuning\",\"CV - Before Tuning\",\"Train - After Tuning\",\"CV - After Tuning\"])\n",
        "  \n",
        "# Add rows\n",
        "\n",
        "myTable.add_row([\"Simple Mean Model\", \"3428\", \"3382\", \"-\", \"-\"])\n",
        "myTable.add_row([\"KNN\", \"827\", \"1018\", \"863\", \"980\"])\n",
        "myTable.add_row([\"Linear Regression\", \"8737\", \"8894\", \"-\", \"-\"])\n",
        "myTable.add_row([\"SVM\", \"3100\", \"3145\", \"942\", \"928\"])\n",
        "myTable.add_row([\"Decision Tree\", \"0\", \"525\", \"719\", \"900\"])\n",
        "myTable.add_row([\"RandomForest\", \"247\", \"623\", \"247\", \"616\"])\n",
        "myTable.add_row([\"ANN\", \"645\", \"845\", \"-\", \"-\"])   \n",
        "print(myTable)"
      ],
      "execution_count": 1,
      "outputs": [
        {
          "output_type": "stream",
          "text": [
            "\u001b[1mThe Score we are using is Median Absolute Deviation:\u001b[0m\n",
            " \n",
            "+-------------------+-----------------------+--------------------+----------------------+-------------------+\n",
            "|       Model       | Train - Before Tuning | CV - Before Tuning | Train - After Tuning | CV - After Tuning |\n",
            "+-------------------+-----------------------+--------------------+----------------------+-------------------+\n",
            "| Simple Mean Model |          3428         |        3382        |          -           |         -         |\n",
            "|        KNN        |          827          |        1018        |         863          |        980        |\n",
            "| Linear Regression |          8737         |        8894        |          -           |         -         |\n",
            "|        SVM        |          3100         |        3145        |         942          |        928        |\n",
            "|   Decision Tree   |           0           |        525         |         719          |        900        |\n",
            "|    RandomForest   |          247          |        623         |         247          |        616        |\n",
            "|        ANN        |          645          |        845         |          -           |         -         |\n",
            "+-------------------+-----------------------+--------------------+----------------------+-------------------+\n"
          ],
          "name": "stdout"
        }
      ]
    },
    {
      "cell_type": "code",
      "metadata": {
        "id": "jmyT_H3-u3mT"
      },
      "source": [
        ""
      ],
      "execution_count": null,
      "outputs": []
    },
    {
      "cell_type": "code",
      "metadata": {
        "id": "anjx-j5lyRnT"
      },
      "source": [
        ""
      ],
      "execution_count": null,
      "outputs": []
    },
    {
      "cell_type": "code",
      "metadata": {
        "id": "uEenciz9OlnG"
      },
      "source": [
        ""
      ],
      "execution_count": null,
      "outputs": []
    },
    {
      "cell_type": "code",
      "metadata": {
        "id": "Z-k7_V5qu39D"
      },
      "source": [
        ""
      ],
      "execution_count": null,
      "outputs": []
    },
    {
      "cell_type": "code",
      "metadata": {
        "id": "V52zAIesu4B7"
      },
      "source": [
        ""
      ],
      "execution_count": null,
      "outputs": []
    }
  ]
}